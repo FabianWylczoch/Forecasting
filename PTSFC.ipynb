{
 "cells": [
  {
   "cell_type": "markdown",
   "id": "e69b6ae1",
   "metadata": {},
   "source": [
    "# Notebook to forecast quantiles for the DAX"
   ]
  },
  {
   "cell_type": "markdown",
   "id": "2d24a45e",
   "metadata": {},
   "source": [
    "# Imports"
   ]
  },
  {
   "cell_type": "code",
   "execution_count": 6,
   "id": "d11203bf",
   "metadata": {},
   "outputs": [],
   "source": [
    "import pandas as pd\n",
    "import numpy as np\n",
    "import statsmodels as sm\n",
    "import yfinance as yf\n",
    "from datetime import datetime\n",
    "import requests\n",
    "import json\n",
    "import sys\n",
    "import math\n",
    "import matplotlib.pyplot as plt\n",
    "\n",
    "from prophet import Prophet\n",
    "\n",
    "from statsmodels.graphics.tsaplots import plot_pacf\n",
    "from statsmodels.graphics.tsaplots import plot_acf\n",
    "from statsmodels.tsa.arima.model import ARIMA\n",
    "from statsmodels.graphics.tsaplots import plot_predict\n",
    "from statsmodels.tsa.arima_process import ArmaProcess\n",
    "from statsmodels.stats.diagnostic import acorr_ljungbox\n",
    "from statsmodels.tsa.statespace.sarimax import SARIMAX\n",
    "from statsmodels.tsa.stattools import adfuller\n",
    "from statsmodels.tsa.stattools import pacf\n",
    "from statsmodels.tsa.stattools import acf\n",
    "\n",
    "import arch\n",
    "from arch import arch_model\n",
    "\n",
    "#from darts.models.forecasting.exponential_smoothing import ExponentialSmoothing\n",
    "#from darts.utils.likelihood_models import GaussianLikelihood\n",
    "#from darts.timeseries import TimeSeries\n",
    "\n",
    "pd.set_option('display.max_columns', 500)\n",
    "np.set_printoptions(threshold=sys.maxsize)\n",
    "pd.set_option('display.max_rows', sys.maxsize)"
   ]
  },
  {
   "cell_type": "markdown",
   "id": "4b4e7d42",
   "metadata": {},
   "source": [
    "# Functions"
   ]
  },
  {
   "cell_type": "code",
   "execution_count": 7,
   "id": "a6d5db19",
   "metadata": {},
   "outputs": [],
   "source": [
    "def quantile_loss(y_true, y_pred, quantile):\n",
    "    \n",
    "    if y_true > y_pred:\n",
    "        loss = quantile * (y_true - y_pred)\n",
    "    else:\n",
    "        loss = (1 - quantile) * (y_pred - y_true)\n",
    "    return loss\n"
   ]
  },
  {
   "cell_type": "code",
   "execution_count": 8,
   "id": "566ca771",
   "metadata": {},
   "outputs": [],
   "source": [
    "def energy_eval(energydata, p, q):\n",
    "    energytraindata = energydata[:-168]\n",
    "    energytestdata = energydata[-168:]\n",
    "\n",
    "    enf12 = energytestdata.loc[(energytestdata.index.dayofweek == 4) & (energytestdata.index.hour == 12)]\n",
    "    enf16 = energytestdata.loc[(energytestdata.index.dayofweek == 4) & (energytestdata.index.hour == 16)]\n",
    "    enf20 = energytestdata.loc[(energytestdata.index.dayofweek == 4) & (energytestdata.index.hour == 20)]\n",
    "\n",
    "    ens12 = energytestdata.loc[(energytestdata.index.dayofweek == 5) & (energytestdata.index.hour == 12)]\n",
    "    ens16 = energytestdata.loc[(energytestdata.index.dayofweek == 5) & (energytestdata.index.hour == 16)]\n",
    "    ens20 = energytestdata.loc[(energytestdata.index.dayofweek == 5) & (energytestdata.index.hour == 20)]\n",
    "\n",
    "    energytestdata = pd.concat([enf12, enf16, enf20, ens12, ens16, ens20])\n",
    "\n",
    "    energyforecast = energy_model(energytraindata, p, q)\n",
    "    energyforecast = pd.DataFrame(energyforecast, columns = [\"q0.025\", \"q0.25\", \"q0.5\", \"q0.75\", \"q0.975\"])\n",
    "\n",
    "    energyevaldata = energytestdata.copy(deep=True)\n",
    "    energyevaldata[\"q0.025\"] = np.array(energyforecast[\"q0.025\"])\n",
    "    energyevaldata[\"q0.25\"] = np.array(energyforecast[\"q0.25\"])\n",
    "    energyevaldata[\"q0.5\"] = np.array(energyforecast[\"q0.5\"])\n",
    "    energyevaldata[\"q0.75\"] = np.array(energyforecast[\"q0.75\"])\n",
    "    energyevaldata[\"q0.975\"] = np.array(energyforecast[\"q0.975\"])\n",
    "\n",
    "    energyevaldata.data = energyevaldata.data / 1000\n",
    "\n",
    "    #energyevaldata.plot()\n",
    "\n",
    "    totalloss = 0\n",
    "    for q in [\"q0.025\", \"q0.25\", \"q0.5\", \"q0.75\", \"q0.975\"]:\n",
    "        for i in range(len(energyevaldata)):\n",
    "            totalloss += quantile_loss(energyevaldata[\"data\"].iloc[i], energyevaldata[q].iloc[i], float(q[1:]))\n",
    "    print(\"*********************************\")\n",
    "    print(\"Quantile Loss: \" + str(totalloss))\n",
    "    print(\"*********************************\")\n",
    "\n",
    "    return totalloss\n",
    "    "
   ]
  },
  {
   "cell_type": "code",
   "execution_count": 9,
   "id": "c13f60a3",
   "metadata": {},
   "outputs": [],
   "source": [
    "def dax_eval(daxdata, p, q):\n",
    "    daxtraindata = daxdata[:-5]\n",
    "    daxtestdata = daxdata[-5:]\n",
    "\n",
    "    daxforecast = dax_model(daxtraindata, p, q)\n",
    "    daxforecast = pd.DataFrame(daxforecast, columns = [\"q0.025\", \"q0.25\", \"q0.5\", \"q0.75\", \"q0.975\"])\n",
    "    daxevaldata = daxtestdata.copy(deep=True)\n",
    "\n",
    "    daxevaldata[\"q0.025\"] = np.array(daxforecast[\"q0.025\"])\n",
    "    daxevaldata[\"q0.25\"] = np.array(daxforecast[\"q0.25\"])\n",
    "    daxevaldata[\"q0.5\"] = np.array(daxforecast[\"q0.5\"])\n",
    "    daxevaldata[\"q0.75\"] = np.array(daxforecast[\"q0.75\"])\n",
    "    daxevaldata[\"q0.975\"] = np.array(daxforecast[\"q0.975\"])\n",
    "  \n",
    "    #daxevaldata.plot()\n",
    "\n",
    "    totalloss = 0\n",
    "    for q in [\"q0.025\", \"q0.25\", \"q0.5\", \"q0.75\", \"q0.975\"]:\n",
    "        for i in range(len(daxevaldata)):\n",
    "            totalloss += quantile_loss(daxevaldata[\"data\"].iloc[i], daxevaldata[q].iloc[i], float(q[1:]))\n",
    "    print(\"*********************************\")\n",
    "    print(\"Quantile Loss: \" + str(totalloss))\n",
    "    print(\"*********************************\")\n",
    "\n",
    "    return totalloss\n"
   ]
  },
  {
   "cell_type": "code",
   "execution_count": 10,
   "id": "ead30f23",
   "metadata": {},
   "outputs": [],
   "source": [
    "def compute_return(y, r_type=\"log\", h=1):\n",
    "    \n",
    "    # exclude first h observations\n",
    "    y2 = y[h:]\n",
    "    # exclude last h observations\n",
    "    y1 = y[:-h]\n",
    "    \n",
    "    if r_type == \"log\":\n",
    "        ret = np.concatenate(([np.nan]*h, 100 * (np.log(y2) - np.log(y1))))\n",
    "    else:\n",
    "        ret = np.concatenate(([np.nan]*h, 100 * (y2-y1)/y1))\n",
    "        \n",
    "    return ret"
   ]
  },
  {
   "cell_type": "code",
   "execution_count": 11,
   "id": "f84ab23a",
   "metadata": {},
   "outputs": [],
   "source": [
    "def create_submission_table():\n",
    "    forecast_date = [str(datetime.now().date())] * 16\n",
    "    target = [\"DAX\"] * 5 + [\"energy\"] * 6 + [\"wind\"] * 5\n",
    "    horizon = ['1 day', '2 day', '5 day', '6 day', '7 day', '36 hour', '40 hour', '44 hour', '60 hour', '64 hour', '68 hour', '36 hour', '48 hour', '60 hour', '72 hour', '84 hour']\n",
    "    \n",
    "    return pd.DataFrame({\"forecast_date\": forecast_date, \"target\": target, \"horizon\": horizon, \"q0.025\": [np.nan]*16, \"q0.25\": [np.nan]*16, \"q0.5\": [np.nan]*16, \"q0.75\": [np.nan]*16, \"q0.975\": [np.nan]*16})"
   ]
  },
  {
   "cell_type": "code",
   "execution_count": 12,
   "id": "d6cf65b3",
   "metadata": {},
   "outputs": [],
   "source": [
    "def get_dax_data():\n",
    "    msft = yf.Ticker(\"^GDAXI\")\n",
    "    hist = msft.history(period=\"max\")\n",
    "    data = hist[[\"Close\"]]\n",
    "    data = data.reset_index().rename(columns={\"Date\": \"date_time\"})\n",
    "    data.set_index(\"date_time\", inplace = True)\n",
    "    data[\"data\"] = compute_return(data.Close.values)\n",
    "    data = data.dropna()\n",
    "    data = data.drop(columns = \"Close\")\n",
    "    #data = data.data.values\n",
    "    \n",
    "    return data"
   ]
  },
  {
   "cell_type": "code",
   "execution_count": null,
   "id": "fcec5707",
   "metadata": {},
   "outputs": [],
   "source": [
    "# Get energydata from csv\n",
    "\"\"\"def get_energy_data():\n",
    "    data = pd.read_csv(\"energy_data.csv\", sep=\";\")\n",
    "    data = data[data.columns[:3]]\n",
    "    data = data.rename(columns={\"Gesamt (Netzlast)[MWh]\": \"data\"})\n",
    "    data = data[data[\"data\"] != \"-\"]\n",
    "    data[\"date_time\"] = pd.to_datetime(data['Datum'] + ' ' + data['Uhrzeit'], format = '%d.%m.%Y %H:%M')\n",
    "    data = data.drop(columns = [\"Datum\", \"Uhrzeit\"])\n",
    "    data = data.astype({\"data\": float})\n",
    "    data.set_index(\"date_time\", inplace=True)\n",
    "    data = data.resample(\"1h\", label = \"left\").sum()\n",
    "    #data = data.data.values\n",
    "    \n",
    "    return data\"\"\""
   ]
  },
  {
   "cell_type": "code",
   "execution_count": 13,
   "id": "835c259c",
   "metadata": {},
   "outputs": [],
   "source": [
    "def get_energy_data(): \n",
    "    stampsurl = \"https://www.smard.de/app/chart_data/410/DE/index_quarterhour.json\"\n",
    "    response = requests.get(stampsurl)\n",
    "    timestamps = list(response.json()[\"timestamps\"])\n",
    "\n",
    "    energydata = pd.DataFrame(columns=[\"date_time\", \"data\"])\n",
    "    for stamp in timestamps[157:]:\n",
    "        dataurl = \"https://www.smard.de/app/chart_data/410/DE/410_DE_quarterhour_\" + str(stamp) + \".json\"\n",
    "        response = requests.get(dataurl)\n",
    "        rawdata = response.json()[\"series\"]\n",
    "        for i in range(len(rawdata)):\n",
    "            rawdata[i][0] = datetime.fromtimestamp(int(str(rawdata[i][0])[:10])).strftime(\"%Y-%m-%d %H:%M:%S\")\n",
    "        energydata = pd.concat([energydata, pd.DataFrame(rawdata, columns=[\"date_time\", \"data\"])])\n",
    "    energydata = energydata.dropna()\n",
    "    energydata[\"date_time\"] = pd.to_datetime(energydata.date_time)\n",
    "    energydata.set_index(\"date_time\", inplace=True)\n",
    "    energydata = energydata.resample(\"1h\", label = \"left\").sum()\n",
    "\n",
    "    return energydata"
   ]
  },
  {
   "cell_type": "code",
   "execution_count": 14,
   "id": "fcaa2f78",
   "metadata": {},
   "outputs": [],
   "source": [
    "def create_submission_file(submission):\n",
    "    submission.to_csv(datetime.now().strftime(\"%Y%m%d\") + \"_GreyWorm.csv\", index = False)\n",
    "    print(\"Submission file created\")"
   ]
  },
  {
   "cell_type": "markdown",
   "id": "96c22c5e",
   "metadata": {},
   "source": [
    "# Current Models"
   ]
  },
  {
   "cell_type": "code",
   "execution_count": 15,
   "id": "bf955abd",
   "metadata": {},
   "outputs": [],
   "source": [
    "def dax_model(daxdata, p, q):\n",
    "    model = arch_model(daxdata, mean='Zero', vol='GARCH', p=p, q=q)\n",
    "    model_fit = model.fit()\n",
    "    yhat = model_fit.forecast(horizon=5)\n",
    "\n",
    "    h1sample = np.random.normal(loc=0, scale=math.sqrt(yhat.variance[\"h.1\"].iloc[-1]), size=1000)\n",
    "    h2sample = np.random.normal(loc=0, scale=math.sqrt(yhat.variance[\"h.2\"].iloc[-1]), size=1000)\n",
    "    h3sample = np.random.normal(loc=0, scale=math.sqrt(yhat.variance[\"h.3\"].iloc[-1]), size=1000)\n",
    "    h4sample = np.random.normal(loc=0, scale=math.sqrt(yhat.variance[\"h.4\"].iloc[-1]), size=1000)\n",
    "    h5sample = np.random.normal(loc=0, scale=math.sqrt(yhat.variance[\"h.5\"].iloc[-1]), size=1000)\n",
    "\n",
    "    quantiles = [0.025, 0.25, 0.5, 0.75, 0.975]\n",
    "\n",
    "    h1quantiles = np.quantile(h1sample, quantiles)\n",
    "    h2quantiles = np.quantile(h2sample, quantiles)\n",
    "    h3quantiles = np.quantile(h3sample, quantiles)\n",
    "    h4quantiles = np.quantile(h4sample, quantiles)\n",
    "    h5quantiles = np.quantile(h5sample, quantiles)\n",
    "    daxquantiles = [h1quantiles, h2quantiles, h3quantiles, h4quantiles, h5quantiles]\n",
    "\n",
    "    return daxquantiles\n"
   ]
  },
  {
   "cell_type": "code",
   "execution_count": 16,
   "id": "5e2f5315",
   "metadata": {},
   "outputs": [],
   "source": [
    "def energy_model(energydata, p, q):\n",
    "    energydata = energydata.loc[energydata.data != 0]\n",
    "    \n",
    "    enf12 = energydata.loc[(energydata.index.dayofweek == 4) & (energydata.index.hour == 12)]\n",
    "    enf16 = energydata.loc[(energydata.index.dayofweek == 4) & (energydata.index.hour == 16)]\n",
    "    enf20 = energydata.loc[(energydata.index.dayofweek == 4) & (energydata.index.hour == 20)]\n",
    "\n",
    "    ens12 = energydata.loc[(energydata.index.dayofweek == 5) & (energydata.index.hour == 12)]\n",
    "    ens16 = energydata.loc[(energydata.index.dayofweek == 5) & (energydata.index.hour == 16)]\n",
    "    ens20 = energydata.loc[(energydata.index.dayofweek == 5) & (energydata.index.hour == 20)]\n",
    "\n",
    "    dfs = [enf12, enf16, enf20, ens12, ens16, ens20]\n",
    "    params = pd.DataFrame(columns = [\"h1\", \"h2\", \"h3\", \"h4\", \"h5\", \"h6\"])\n",
    "    for i, df in enumerate(dfs):\n",
    "        model = ARIMA(df.data, order=(p,1,q))\n",
    "        model_fit = model.fit()\n",
    "        fc = float(model_fit.forecast(1))\n",
    "        params[params.columns[i]] = [fc, float(df[-8:].describe().loc[\"std\"])]\n",
    "\n",
    "    h1sample = np.random.normal(loc=float(params.iloc[0].h1), scale=float(params.iloc[1].h1), size=1000)\n",
    "    h2sample = np.random.normal(loc=float(params.iloc[0].h2), scale=float(params.iloc[1].h2), size=1000)\n",
    "    h3sample = np.random.normal(loc=float(params.iloc[0].h3), scale=float(params.iloc[1].h3), size=1000)\n",
    "    h4sample = np.random.normal(loc=float(params.iloc[0].h4), scale=float(params.iloc[1].h4), size=1000)\n",
    "    h5sample = np.random.normal(loc=float(params.iloc[0].h5), scale=float(params.iloc[1].h5), size=1000)\n",
    "    h6sample = np.random.normal(loc=float(params.iloc[0].h6), scale=float(params.iloc[1].h6), size=1000)\n",
    "\n",
    "    quantiles = [0.025, 0.25, 0.5, 0.75, 0.975]\n",
    "\n",
    "    h1quantiles = np.quantile(h1sample, quantiles)\n",
    "    h2quantiles = np.quantile(h2sample, quantiles)\n",
    "    h3quantiles = np.quantile(h3sample, quantiles)\n",
    "    h4quantiles = np.quantile(h4sample, quantiles)\n",
    "    h5quantiles = np.quantile(h5sample, quantiles)\n",
    "    h6quantiles = np.quantile(h6sample, quantiles)\n",
    "\n",
    "    energyquantiles = [h1quantiles, h2quantiles, h3quantiles, h4quantiles, h5quantiles, h6quantiles]\n",
    "    energyquantiles = [q/1000 for q in energyquantiles]\n",
    "\n",
    "    return energyquantiles"
   ]
  },
  {
   "cell_type": "markdown",
   "id": "eff666ad",
   "metadata": {},
   "source": [
    "# Modeling"
   ]
  },
  {
   "cell_type": "markdown",
   "id": "8f250762",
   "metadata": {},
   "source": [
    "## DAX"
   ]
  },
  {
   "cell_type": "markdown",
   "id": "b2bfea53",
   "metadata": {},
   "source": [
    "### GARCH"
   ]
  },
  {
   "cell_type": "code",
   "execution_count": null,
   "id": "1dcc51b0",
   "metadata": {},
   "outputs": [],
   "source": [
    "daxdata = get_dax_data()"
   ]
  },
  {
   "cell_type": "code",
   "execution_count": null,
   "id": "078a8a1e",
   "metadata": {},
   "outputs": [],
   "source": [
    "model = arch_model(daxdata, mean='Zero', vol='GARCH', p=15, q=15)"
   ]
  },
  {
   "cell_type": "code",
   "execution_count": null,
   "id": "9f7d75ac",
   "metadata": {},
   "outputs": [],
   "source": [
    "model_fit = model.fit()"
   ]
  },
  {
   "cell_type": "code",
   "execution_count": null,
   "id": "19b0d1ee",
   "metadata": {},
   "outputs": [],
   "source": [
    "ret2 = daxdata.data**2"
   ]
  },
  {
   "cell_type": "code",
   "execution_count": null,
   "id": "1eefc5bf",
   "metadata": {},
   "outputs": [],
   "source": [
    "ret2.plot()"
   ]
  },
  {
   "cell_type": "code",
   "execution_count": null,
   "id": "b665f89b",
   "metadata": {},
   "outputs": [],
   "source": [
    "model_fit.plot()"
   ]
  },
  {
   "cell_type": "code",
   "execution_count": null,
   "id": "95d56384",
   "metadata": {},
   "outputs": [],
   "source": [
    "yhat = model_fit.forecast(horizon=5)\n",
    "yhat.variance.tail()"
   ]
  },
  {
   "cell_type": "code",
   "execution_count": null,
   "id": "b990ca57",
   "metadata": {},
   "outputs": [],
   "source": [
    "h1sample = np.random.normal(loc=0, scale=math.sqrt(yhat.variance[\"h.1\"].iloc[-1]), size=1000)\n",
    "h2sample = np.random.normal(loc=0, scale=math.sqrt(yhat.variance[\"h.2\"].iloc[-1]), size=1000)\n",
    "h3sample = np.random.normal(loc=0, scale=math.sqrt(yhat.variance[\"h.3\"].iloc[-1]), size=1000)\n",
    "h4sample = np.random.normal(loc=0, scale=math.sqrt(yhat.variance[\"h.4\"].iloc[-1]), size=1000)\n",
    "h5sample = np.random.normal(loc=0, scale=math.sqrt(yhat.variance[\"h.5\"].iloc[-1]), size=1000)\n",
    "\n",
    "quantiles = [0.025, 0.25, 0.5, 0.75, 0.975]\n",
    "\n",
    "h1quantiles = np.quantile(h1sample, quantiles)\n",
    "h2quantiles = np.quantile(h2sample, quantiles)\n",
    "h3quantiles = np.quantile(h3sample, quantiles)\n",
    "h4quantiles = np.quantile(h4sample, quantiles)\n",
    "h5quantiles = np.quantile(h5sample, quantiles)\n",
    "daxquantiles = [h1quantiles, h2quantiles, h3quantiles, h4quantiles, h5quantiles]"
   ]
  },
  {
   "cell_type": "markdown",
   "id": "73da1d08",
   "metadata": {},
   "source": [
    "## Energy"
   ]
  },
  {
   "cell_type": "code",
   "execution_count": null,
   "id": "96c4099f",
   "metadata": {},
   "outputs": [],
   "source": [
    "energydata = get_energy_data()"
   ]
  },
  {
   "cell_type": "code",
   "execution_count": null,
   "id": "318c5259",
   "metadata": {},
   "outputs": [],
   "source": [
    "energydata = energydata.loc[energydata.data != 0]"
   ]
  },
  {
   "cell_type": "code",
   "execution_count": null,
   "id": "8249dc98",
   "metadata": {},
   "outputs": [],
   "source": [
    "energydata.plot()"
   ]
  },
  {
   "cell_type": "code",
   "execution_count": null,
   "id": "82899c48",
   "metadata": {},
   "outputs": [],
   "source": [
    "enf12 = energydata.loc[(energydata.index.dayofweek == 4) & (energydata.index.hour == 12)]\n",
    "enf16 = energydata.loc[(energydata.index.dayofweek == 4) & (energydata.index.hour == 16)]\n",
    "enf20 = energydata.loc[(energydata.index.dayofweek == 4) & (energydata.index.hour == 20)]\n",
    "\n",
    "ens12 = energydata.loc[(energydata.index.dayofweek == 5) & (energydata.index.hour == 12)]\n",
    "ens16 = energydata.loc[(energydata.index.dayofweek == 5) & (energydata.index.hour == 16)]\n",
    "ens20 = energydata.loc[(energydata.index.dayofweek == 5) & (energydata.index.hour == 20)]"
   ]
  },
  {
   "cell_type": "code",
   "execution_count": null,
   "id": "d1611e74",
   "metadata": {},
   "outputs": [],
   "source": [
    "ts12 = ens12.copy()\n",
    "ts12.data = compute_return(ens12.data.values)\n",
    "ts12 = t12.dropna()\n",
    "ts12.plot()\n",
    "plot_pacf(ts12.data, lags=104)\n"
   ]
  },
  {
   "cell_type": "code",
   "execution_count": null,
   "id": "244a5b12",
   "metadata": {},
   "outputs": [],
   "source": [
    "model = ARIMA(ens12.data, order=(3,1,2))\n",
    "model_fit = model.fit()\n",
    "print(model_fit.summary())\n"
   ]
  },
  {
   "cell_type": "code",
   "execution_count": null,
   "id": "70779220",
   "metadata": {},
   "outputs": [],
   "source": [
    "list(model_fit.params)[1:-1]"
   ]
  },
  {
   "cell_type": "code",
   "execution_count": null,
   "id": "70dc3ea5",
   "metadata": {},
   "outputs": [],
   "source": [
    "arcoefs = [1] + list(model_fit.params)[1:-1][0:3] #0:p\n",
    "macoefs = [1] + list(model_fit.params)[1:-1][3:3+2] #p:p+q\n",
    "armadata = ArmaProcess(arcoefs, macoefs).generate_sample(nsample=1000)\n",
    "pd.DataFrame(armadata).plot()"
   ]
  },
  {
   "cell_type": "code",
   "execution_count": null,
   "id": "cfecf76d",
   "metadata": {},
   "outputs": [],
   "source": [
    "pred = model_fit.get_prediction().summary_frame()"
   ]
  },
  {
   "cell_type": "code",
   "execution_count": null,
   "id": "daad9963",
   "metadata": {},
   "outputs": [],
   "source": [
    "#plot_predict(model_fit)\n",
    "plt.plot(ens12.index, ens12.data)\n",
    "plt.plot(pred.iloc[1:].index, pred.iloc[1:]['mean'])\n",
    "plt.plot(pd.DataFrame(fc).index, pd.DataFrame(fc).predicted_mean)\n",
    "plt.show()"
   ]
  },
  {
   "cell_type": "code",
   "execution_count": null,
   "id": "ff687e9a",
   "metadata": {},
   "outputs": [],
   "source": [
    "fc = model_fit.forecast(1) "
   ]
  },
  {
   "cell_type": "code",
   "execution_count": null,
   "id": "285e7cbb",
   "metadata": {},
   "outputs": [],
   "source": [
    "float(fc)"
   ]
  },
  {
   "cell_type": "code",
   "execution_count": null,
   "id": "db581a74",
   "metadata": {},
   "outputs": [],
   "source": [
    "float(ens12[-5:].describe().loc[\"std\"])"
   ]
  },
  {
   "cell_type": "code",
   "execution_count": null,
   "id": "4be03c9d",
   "metadata": {},
   "outputs": [],
   "source": [
    "dfs = [enf12, enf16, enf20, ens12, ens16, ens20]\n",
    "params = pd.DataFrame(columns = [\"h1\", \"h2\", \"h3\", \"h4\", \"h5\", \"h6\"])\n",
    "for i, df in enumerate(dfs):\n",
    "    model = ARIMA(df.data, order=(3,1,2))\n",
    "    model_fit = model.fit()\n",
    "    fc = float(model_fit.forecast(1))\n",
    "    params[params.columns[i]] = [fc, float(df[-8:].describe().loc[\"std\"])]"
   ]
  },
  {
   "cell_type": "code",
   "execution_count": null,
   "id": "b6f46eeb",
   "metadata": {},
   "outputs": [],
   "source": [
    "params"
   ]
  },
  {
   "cell_type": "code",
   "execution_count": null,
   "id": "737f2ee1",
   "metadata": {},
   "outputs": [],
   "source": [
    "h1sample = np.random.normal(loc=float(params.iloc[0].h1), scale=float(params.iloc[1].h1), size=1000)\n",
    "h2sample = np.random.normal(loc=float(params.iloc[0].h2), scale=float(params.iloc[1].h2), size=1000)\n",
    "h3sample = np.random.normal(loc=float(params.iloc[0].h3), scale=float(params.iloc[1].h3), size=1000)\n",
    "h4sample = np.random.normal(loc=float(params.iloc[0].h4), scale=float(params.iloc[1].h4), size=1000)\n",
    "h5sample = np.random.normal(loc=float(params.iloc[0].h5), scale=float(params.iloc[1].h5), size=1000)\n",
    "h6sample = np.random.normal(loc=float(params.iloc[0].h6), scale=float(params.iloc[1].h6), size=1000)\n",
    "\n",
    "quantiles = [0.025, 0.25, 0.5, 0.75, 0.975]\n",
    "\n",
    "h1quantiles = np.quantile(h1sample, quantiles)\n",
    "h2quantiles = np.quantile(h2sample, quantiles)\n",
    "h3quantiles = np.quantile(h3sample, quantiles)\n",
    "h4quantiles = np.quantile(h4sample, quantiles)\n",
    "h5quantiles = np.quantile(h5sample, quantiles)\n",
    "h6quantiles = np.quantile(h6sample, quantiles)\n",
    "\n",
    "energyquantiles = [h1quantiles, h2quantiles, h3quantiles, h4quantiles, h5quantiles, h6quantiles]\n",
    "energyquantiles = [q/1000 for q in energyquantiles]"
   ]
  },
  {
   "cell_type": "markdown",
   "id": "1361d654",
   "metadata": {},
   "source": [
    "# Finetuning"
   ]
  },
  {
   "cell_type": "markdown",
   "id": "50b4d588",
   "metadata": {},
   "source": [
    "## DAX"
   ]
  },
  {
   "cell_type": "code",
   "execution_count": null,
   "id": "c3a7d4ee",
   "metadata": {},
   "outputs": [],
   "source": [
    "params = []\n",
    "for p in range(1, 16):\n",
    "    for q in range(16):\n",
    "        loss = dax_eval(daxdata, p, q)\n",
    "        params.append([loss, p, q])"
   ]
  },
  {
   "cell_type": "code",
   "execution_count": null,
   "id": "649798a4",
   "metadata": {},
   "outputs": [],
   "source": [
    "params[[p[0] for p in params].index(min([p[0] for p in params]))]"
   ]
  },
  {
   "cell_type": "markdown",
   "id": "1c6c720a",
   "metadata": {},
   "source": [
    "p = 8 and q = 0 appear to be the best parameters for the DAX GARCH model!"
   ]
  },
  {
   "cell_type": "markdown",
   "id": "ae4eb272",
   "metadata": {},
   "source": [
    "## Energy"
   ]
  },
  {
   "cell_type": "code",
   "execution_count": null,
   "id": "724de4a8",
   "metadata": {},
   "outputs": [],
   "source": [
    "params = []\n",
    "for p in range(1, 16):\n",
    "    for q in range(16):\n",
    "        loss = energy_eval(energydata, p, q)\n",
    "        params.append([loss, p, q])"
   ]
  },
  {
   "cell_type": "code",
   "execution_count": null,
   "id": "d7b978cc",
   "metadata": {},
   "outputs": [],
   "source": [
    "params[[p[0] for p in params].index(min([p[0] for p in params]))]"
   ]
  },
  {
   "cell_type": "code",
   "execution_count": null,
   "id": "3a57b60e",
   "metadata": {},
   "outputs": [],
   "source": [
    "enf12 = energydata.loc[(energydata.index.dayofweek == 4) & (energydata.index.hour == 12)]\n",
    "enf16 = energydata.loc[(energydata.index.dayofweek == 4) & (energydata.index.hour == 16)]\n",
    "enf20 = energydata.loc[(energydata.index.dayofweek == 4) & (energydata.index.hour == 20)]\n",
    "\n",
    "ens12 = energydata.loc[(energydata.index.dayofweek == 5) & (energydata.index.hour == 12)]\n",
    "ens16 = energydata.loc[(energydata.index.dayofweek == 5) & (energydata.index.hour == 16)]\n",
    "ens20 = energydata.loc[(energydata.index.dayofweek == 5) & (energydata.index.hour == 20)]"
   ]
  },
  {
   "cell_type": "code",
   "execution_count": 55,
   "id": "28b3b609",
   "metadata": {},
   "outputs": [
    {
     "name": "stderr",
     "output_type": "stream",
     "text": [
      "/usr/local/Caskroom/miniconda/base/envs/unienv/lib/python3.8/site-packages/statsmodels/graphics/tsaplots.py:348: FutureWarning: The default method 'yw' can produce PACF values outside of the [-1,1] interval. After 0.13, the default will change tounadjusted Yule-Walker ('ywm'). You can use this method now by setting method='ywm'.\n",
      "  warnings.warn(\n"
     ]
    },
    {
     "data": {
      "image/png": "[encoded data removed]",
      "text/plain": [
       "<Figure size 640x480 with 1 Axes>"
      ]
     },
     "execution_count": 55,
     "metadata": {},
     "output_type": "execute_result"
    },
    {
     "data": {
      "image/png": "[encoded data removed]",
      "text/plain": [
       "<Figure size 640x480 with 1 Axes>"
      ]
     },
     "metadata": {},
     "output_type": "display_data"
    }
   ],
   "source": [
    "plot_pacf(enf12.data)"
   ]
  },
  {
   "cell_type": "markdown",
   "id": "e4d69b44",
   "metadata": {},
   "source": [
    "p = 9 and q = 9 appear to be the best parameters for Energy ARMA model!"
   ]
  },
  {
   "cell_type": "markdown",
   "id": "e1377781",
   "metadata": {},
   "source": [
    "# Submission Creation"
   ]
  },
  {
   "cell_type": "code",
   "execution_count": 17,
   "id": "36c1294f",
   "metadata": {},
   "outputs": [],
   "source": [
    "submission = create_submission_table()"
   ]
  },
  {
   "cell_type": "code",
   "execution_count": 18,
   "id": "4860568b",
   "metadata": {},
   "outputs": [],
   "source": [
    "daxdata = get_dax_data()\n",
    "energydata = get_energy_data()"
   ]
  },
  {
   "cell_type": "code",
   "execution_count": 19,
   "id": "e2b1e356",
   "metadata": {},
   "outputs": [
    {
     "name": "stdout",
     "output_type": "stream",
     "text": [
      "Iteration:      1,   Func. Count:     11,   Neg. LLF: 21987.052345579705\n",
      "Iteration:      2,   Func. Count:     25,   Neg. LLF: 938241.0751811876\n",
      "Iteration:      3,   Func. Count:     36,   Neg. LLF: 212869.26953076536\n",
      "Iteration:      4,   Func. Count:     47,   Neg. LLF: 3103041.7307996266\n",
      "Iteration:      5,   Func. Count:     58,   Neg. LLF: 1135931.3395410213\n",
      "Iteration:      6,   Func. Count:     69,   Neg. LLF: 2352846.1306259623\n",
      "Iteration:      7,   Func. Count:     80,   Neg. LLF: 5439360.131719231\n",
      "Iteration:      8,   Func. Count:     91,   Neg. LLF: 151381.36406252274\n",
      "Iteration:      9,   Func. Count:    102,   Neg. LLF: 118675.54059931201\n",
      "Iteration:     10,   Func. Count:    114,   Neg. LLF: 32093.021593741127\n",
      "Iteration:     11,   Func. Count:    125,   Neg. LLF: 18297.262599226837\n",
      "Iteration:     12,   Func. Count:    138,   Neg. LLF: 17301.787239976205\n",
      "Iteration:     13,   Func. Count:    149,   Neg. LLF: 14929.26711275553\n",
      "Iteration:     14,   Func. Count:    160,   Neg. LLF: 14440.081691203713\n",
      "Iteration:     15,   Func. Count:    171,   Neg. LLF: 14505.439615148236\n",
      "Iteration:     16,   Func. Count:    183,   Neg. LLF: 14265.38077452838\n",
      "Iteration:     17,   Func. Count:    194,   Neg. LLF: 14293.394102872191\n",
      "Iteration:     18,   Func. Count:    205,   Neg. LLF: 14215.925490682326\n",
      "Iteration:     19,   Func. Count:    216,   Neg. LLF: 14201.01992858013\n",
      "Iteration:     20,   Func. Count:    226,   Neg. LLF: 14200.993306761213\n",
      "Iteration:     21,   Func. Count:    236,   Neg. LLF: 14200.988861162352\n",
      "Iteration:     22,   Func. Count:    246,   Neg. LLF: 14200.988515369141\n",
      "Iteration:     23,   Func. Count:    256,   Neg. LLF: 14200.988486482818\n",
      "Iteration:     24,   Func. Count:    265,   Neg. LLF: 14200.98848648274\n",
      "Optimization terminated successfully    (Exit mode 0)\n",
      "            Current function value: 14200.988486482818\n",
      "            Iterations: 24\n",
      "            Function evaluations: 265\n",
      "            Gradient evaluations: 24\n"
     ]
    },
    {
     "name": "stderr",
     "output_type": "stream",
     "text": [
      "/usr/local/Caskroom/miniconda/base/envs/unienv/lib/python3.8/site-packages/arch/__future__/_utility.py:11: FutureWarning: \n",
      "The default for reindex is True. After September 2021 this will change to\n",
      "False. Set reindex to True or False to silence this message. Alternatively,\n",
      "you can use the import comment\n",
      "\n",
      "from arch.__future__ import reindexing\n",
      "\n",
      "to globally set reindex to True and silence this warning.\n",
      "\n",
      "  warnings.warn(\n",
      "/usr/local/Caskroom/miniconda/base/envs/unienv/lib/python3.8/site-packages/statsmodels/tsa/base/tsa_model.py:471: ValueWarning: No frequency information was provided, so inferred frequency W-FRI will be used.\n",
      "  self._init_dates(dates, freq)\n",
      "/usr/local/Caskroom/miniconda/base/envs/unienv/lib/python3.8/site-packages/statsmodels/tsa/base/tsa_model.py:471: ValueWarning: No frequency information was provided, so inferred frequency W-FRI will be used.\n",
      "  self._init_dates(dates, freq)\n",
      "/usr/local/Caskroom/miniconda/base/envs/unienv/lib/python3.8/site-packages/statsmodels/tsa/base/tsa_model.py:471: ValueWarning: No frequency information was provided, so inferred frequency W-FRI will be used.\n",
      "  self._init_dates(dates, freq)\n",
      "/usr/local/Caskroom/miniconda/base/envs/unienv/lib/python3.8/site-packages/statsmodels/base/model.py:604: ConvergenceWarning: Maximum Likelihood optimization failed to converge. Check mle_retvals\n",
      "  warnings.warn(\"Maximum Likelihood optimization failed to \"\n",
      "/usr/local/Caskroom/miniconda/base/envs/unienv/lib/python3.8/site-packages/statsmodels/tsa/base/tsa_model.py:471: ValueWarning: No frequency information was provided, so inferred frequency W-FRI will be used.\n",
      "  self._init_dates(dates, freq)\n",
      "/usr/local/Caskroom/miniconda/base/envs/unienv/lib/python3.8/site-packages/statsmodels/tsa/base/tsa_model.py:471: ValueWarning: No frequency information was provided, so inferred frequency W-FRI will be used.\n",
      "  self._init_dates(dates, freq)\n",
      "/usr/local/Caskroom/miniconda/base/envs/unienv/lib/python3.8/site-packages/statsmodels/tsa/base/tsa_model.py:471: ValueWarning: No frequency information was provided, so inferred frequency W-FRI will be used.\n",
      "  self._init_dates(dates, freq)\n",
      "/usr/local/Caskroom/miniconda/base/envs/unienv/lib/python3.8/site-packages/statsmodels/base/model.py:604: ConvergenceWarning: Maximum Likelihood optimization failed to converge. Check mle_retvals\n",
      "  warnings.warn(\"Maximum Likelihood optimization failed to \"\n",
      "/usr/local/Caskroom/miniconda/base/envs/unienv/lib/python3.8/site-packages/statsmodels/tsa/base/tsa_model.py:471: ValueWarning: No frequency information was provided, so inferred frequency W-FRI will be used.\n",
      "  self._init_dates(dates, freq)\n",
      "/usr/local/Caskroom/miniconda/base/envs/unienv/lib/python3.8/site-packages/statsmodels/tsa/base/tsa_model.py:471: ValueWarning: No frequency information was provided, so inferred frequency W-FRI will be used.\n",
      "  self._init_dates(dates, freq)\n",
      "/usr/local/Caskroom/miniconda/base/envs/unienv/lib/python3.8/site-packages/statsmodels/tsa/base/tsa_model.py:471: ValueWarning: No frequency information was provided, so inferred frequency W-FRI will be used.\n",
      "  self._init_dates(dates, freq)\n",
      "/usr/local/Caskroom/miniconda/base/envs/unienv/lib/python3.8/site-packages/statsmodels/base/model.py:604: ConvergenceWarning: Maximum Likelihood optimization failed to converge. Check mle_retvals\n",
      "  warnings.warn(\"Maximum Likelihood optimization failed to \"\n",
      "/usr/local/Caskroom/miniconda/base/envs/unienv/lib/python3.8/site-packages/statsmodels/tsa/base/tsa_model.py:471: ValueWarning: No frequency information was provided, so inferred frequency W-SAT will be used.\n",
      "  self._init_dates(dates, freq)\n",
      "/usr/local/Caskroom/miniconda/base/envs/unienv/lib/python3.8/site-packages/statsmodels/tsa/base/tsa_model.py:471: ValueWarning: No frequency information was provided, so inferred frequency W-SAT will be used.\n",
      "  self._init_dates(dates, freq)\n",
      "/usr/local/Caskroom/miniconda/base/envs/unienv/lib/python3.8/site-packages/statsmodels/tsa/base/tsa_model.py:471: ValueWarning: No frequency information was provided, so inferred frequency W-SAT will be used.\n",
      "  self._init_dates(dates, freq)\n",
      "/usr/local/Caskroom/miniconda/base/envs/unienv/lib/python3.8/site-packages/statsmodels/base/model.py:604: ConvergenceWarning: Maximum Likelihood optimization failed to converge. Check mle_retvals\n",
      "  warnings.warn(\"Maximum Likelihood optimization failed to \"\n",
      "/usr/local/Caskroom/miniconda/base/envs/unienv/lib/python3.8/site-packages/statsmodels/tsa/base/tsa_model.py:471: ValueWarning: No frequency information was provided, so inferred frequency W-SAT will be used.\n",
      "  self._init_dates(dates, freq)\n",
      "/usr/local/Caskroom/miniconda/base/envs/unienv/lib/python3.8/site-packages/statsmodels/tsa/base/tsa_model.py:471: ValueWarning: No frequency information was provided, so inferred frequency W-SAT will be used.\n",
      "  self._init_dates(dates, freq)\n",
      "/usr/local/Caskroom/miniconda/base/envs/unienv/lib/python3.8/site-packages/statsmodels/tsa/base/tsa_model.py:471: ValueWarning: No frequency information was provided, so inferred frequency W-SAT will be used.\n",
      "  self._init_dates(dates, freq)\n",
      "/usr/local/Caskroom/miniconda/base/envs/unienv/lib/python3.8/site-packages/statsmodels/base/model.py:604: ConvergenceWarning: Maximum Likelihood optimization failed to converge. Check mle_retvals\n",
      "  warnings.warn(\"Maximum Likelihood optimization failed to \"\n",
      "/usr/local/Caskroom/miniconda/base/envs/unienv/lib/python3.8/site-packages/statsmodels/tsa/base/tsa_model.py:471: ValueWarning: No frequency information was provided, so inferred frequency W-SAT will be used.\n",
      "  self._init_dates(dates, freq)\n",
      "/usr/local/Caskroom/miniconda/base/envs/unienv/lib/python3.8/site-packages/statsmodels/tsa/base/tsa_model.py:471: ValueWarning: No frequency information was provided, so inferred frequency W-SAT will be used.\n",
      "  self._init_dates(dates, freq)\n",
      "/usr/local/Caskroom/miniconda/base/envs/unienv/lib/python3.8/site-packages/statsmodels/tsa/base/tsa_model.py:471: ValueWarning: No frequency information was provided, so inferred frequency W-SAT will be used.\n",
      "  self._init_dates(dates, freq)\n",
      "/usr/local/Caskroom/miniconda/base/envs/unienv/lib/python3.8/site-packages/statsmodels/tsa/statespace/sarimax.py:966: UserWarning: Non-stationary starting autoregressive parameters found. Using zeros as starting parameters.\n",
      "  warn('Non-stationary starting autoregressive parameters'\n",
      "/usr/local/Caskroom/miniconda/base/envs/unienv/lib/python3.8/site-packages/statsmodels/base/model.py:604: ConvergenceWarning: Maximum Likelihood optimization failed to converge. Check mle_retvals\n",
      "  warnings.warn(\"Maximum Likelihood optimization failed to \"\n"
     ]
    }
   ],
   "source": [
    "daxquantiles = dax_model(daxdata, 8, 0)\n",
    "energyquantiles = energy_model(energydata, 9, 9)"
   ]
  },
  {
   "cell_type": "code",
   "execution_count": 20,
   "id": "f4cda0b2",
   "metadata": {},
   "outputs": [],
   "source": [
    "for i in range(5):\n",
    "    submission.loc[i, [\"q0.025\", \"q0.25\", \"q0.5\", \"q0.75\", \"q0.975\"]] = daxquantiles[i]"
   ]
  },
  {
   "cell_type": "code",
   "execution_count": 21,
   "id": "6ed19620",
   "metadata": {},
   "outputs": [],
   "source": [
    "for i in range(6):\n",
    "    submission.loc[5+i, [\"q0.025\", \"q0.25\", \"q0.5\", \"q0.75\", \"q0.975\"]] = energyquantiles[i]"
   ]
  },
  {
   "cell_type": "code",
   "execution_count": 22,
   "id": "7e285f34",
   "metadata": {},
   "outputs": [
    {
     "data": {
      "text/html": [
       "<div>\n",
       "<style scoped>\n",
       "    .dataframe tbody tr th:only-of-type {\n",
       "        vertical-align: middle;\n",
       "    }\n",
       "\n",
       "    .dataframe tbody tr th {\n",
       "        vertical-align: top;\n",
       "    }\n",
       "\n",
       "    .dataframe thead th {\n",
       "        text-align: right;\n",
       "    }\n",
       "</style>\n",
       "<table border=\"1\" class=\"dataframe\">\n",
       "  <thead>\n",
       "    <tr style=\"text-align: right;\">\n",
       "      <th></th>\n",
       "      <th>forecast_date</th>\n",
       "      <th>target</th>\n",
       "      <th>horizon</th>\n",
       "      <th>q0.025</th>\n",
       "      <th>q0.25</th>\n",
       "      <th>q0.5</th>\n",
       "      <th>q0.75</th>\n",
       "      <th>q0.975</th>\n",
       "    </tr>\n",
       "  </thead>\n",
       "  <tbody>\n",
       "    <tr>\n",
       "      <th>0</th>\n",
       "      <td>2022-11-30</td>\n",
       "      <td>DAX</td>\n",
       "      <td>1 day</td>\n",
       "      <td>-1.649512</td>\n",
       "      <td>-0.511943</td>\n",
       "      <td>0.048289</td>\n",
       "      <td>0.585039</td>\n",
       "      <td>1.794988</td>\n",
       "    </tr>\n",
       "    <tr>\n",
       "      <th>1</th>\n",
       "      <td>2022-11-30</td>\n",
       "      <td>DAX</td>\n",
       "      <td>2 day</td>\n",
       "      <td>-1.716118</td>\n",
       "      <td>-0.617634</td>\n",
       "      <td>-0.042450</td>\n",
       "      <td>0.567023</td>\n",
       "      <td>1.659931</td>\n",
       "    </tr>\n",
       "    <tr>\n",
       "      <th>2</th>\n",
       "      <td>2022-11-30</td>\n",
       "      <td>DAX</td>\n",
       "      <td>5 day</td>\n",
       "      <td>-1.588044</td>\n",
       "      <td>-0.639968</td>\n",
       "      <td>-0.058170</td>\n",
       "      <td>0.507198</td>\n",
       "      <td>1.536235</td>\n",
       "    </tr>\n",
       "    <tr>\n",
       "      <th>3</th>\n",
       "      <td>2022-11-30</td>\n",
       "      <td>DAX</td>\n",
       "      <td>6 day</td>\n",
       "      <td>-2.037259</td>\n",
       "      <td>-0.632306</td>\n",
       "      <td>-0.024385</td>\n",
       "      <td>0.574010</td>\n",
       "      <td>1.810308</td>\n",
       "    </tr>\n",
       "    <tr>\n",
       "      <th>4</th>\n",
       "      <td>2022-11-30</td>\n",
       "      <td>DAX</td>\n",
       "      <td>7 day</td>\n",
       "      <td>-1.827064</td>\n",
       "      <td>-0.637587</td>\n",
       "      <td>-0.032211</td>\n",
       "      <td>0.588330</td>\n",
       "      <td>1.821287</td>\n",
       "    </tr>\n",
       "    <tr>\n",
       "      <th>5</th>\n",
       "      <td>2022-11-30</td>\n",
       "      <td>energy</td>\n",
       "      <td>36 hour</td>\n",
       "      <td>65.012921</td>\n",
       "      <td>68.100118</td>\n",
       "      <td>69.506895</td>\n",
       "      <td>71.072701</td>\n",
       "      <td>74.067380</td>\n",
       "    </tr>\n",
       "    <tr>\n",
       "      <th>6</th>\n",
       "      <td>2022-11-30</td>\n",
       "      <td>energy</td>\n",
       "      <td>40 hour</td>\n",
       "      <td>57.189412</td>\n",
       "      <td>61.465879</td>\n",
       "      <td>63.588049</td>\n",
       "      <td>65.850470</td>\n",
       "      <td>69.939340</td>\n",
       "    </tr>\n",
       "    <tr>\n",
       "      <th>7</th>\n",
       "      <td>2022-11-30</td>\n",
       "      <td>energy</td>\n",
       "      <td>44 hour</td>\n",
       "      <td>57.854443</td>\n",
       "      <td>60.308466</td>\n",
       "      <td>61.550533</td>\n",
       "      <td>62.883100</td>\n",
       "      <td>65.341431</td>\n",
       "    </tr>\n",
       "    <tr>\n",
       "      <th>8</th>\n",
       "      <td>2022-11-30</td>\n",
       "      <td>energy</td>\n",
       "      <td>60 hour</td>\n",
       "      <td>55.615069</td>\n",
       "      <td>57.697994</td>\n",
       "      <td>58.894911</td>\n",
       "      <td>60.118636</td>\n",
       "      <td>62.436056</td>\n",
       "    </tr>\n",
       "    <tr>\n",
       "      <th>9</th>\n",
       "      <td>2022-11-30</td>\n",
       "      <td>energy</td>\n",
       "      <td>64 hour</td>\n",
       "      <td>50.472717</td>\n",
       "      <td>54.558538</td>\n",
       "      <td>56.306684</td>\n",
       "      <td>58.329389</td>\n",
       "      <td>62.026023</td>\n",
       "    </tr>\n",
       "    <tr>\n",
       "      <th>10</th>\n",
       "      <td>2022-11-30</td>\n",
       "      <td>energy</td>\n",
       "      <td>68 hour</td>\n",
       "      <td>50.583662</td>\n",
       "      <td>53.167804</td>\n",
       "      <td>54.469882</td>\n",
       "      <td>55.824933</td>\n",
       "      <td>58.609352</td>\n",
       "    </tr>\n",
       "    <tr>\n",
       "      <th>11</th>\n",
       "      <td>2022-11-30</td>\n",
       "      <td>wind</td>\n",
       "      <td>36 hour</td>\n",
       "      <td>NaN</td>\n",
       "      <td>NaN</td>\n",
       "      <td>NaN</td>\n",
       "      <td>NaN</td>\n",
       "      <td>NaN</td>\n",
       "    </tr>\n",
       "    <tr>\n",
       "      <th>12</th>\n",
       "      <td>2022-11-30</td>\n",
       "      <td>wind</td>\n",
       "      <td>48 hour</td>\n",
       "      <td>NaN</td>\n",
       "      <td>NaN</td>\n",
       "      <td>NaN</td>\n",
       "      <td>NaN</td>\n",
       "      <td>NaN</td>\n",
       "    </tr>\n",
       "    <tr>\n",
       "      <th>13</th>\n",
       "      <td>2022-11-30</td>\n",
       "      <td>wind</td>\n",
       "      <td>60 hour</td>\n",
       "      <td>NaN</td>\n",
       "      <td>NaN</td>\n",
       "      <td>NaN</td>\n",
       "      <td>NaN</td>\n",
       "      <td>NaN</td>\n",
       "    </tr>\n",
       "    <tr>\n",
       "      <th>14</th>\n",
       "      <td>2022-11-30</td>\n",
       "      <td>wind</td>\n",
       "      <td>72 hour</td>\n",
       "      <td>NaN</td>\n",
       "      <td>NaN</td>\n",
       "      <td>NaN</td>\n",
       "      <td>NaN</td>\n",
       "      <td>NaN</td>\n",
       "    </tr>\n",
       "    <tr>\n",
       "      <th>15</th>\n",
       "      <td>2022-11-30</td>\n",
       "      <td>wind</td>\n",
       "      <td>84 hour</td>\n",
       "      <td>NaN</td>\n",
       "      <td>NaN</td>\n",
       "      <td>NaN</td>\n",
       "      <td>NaN</td>\n",
       "      <td>NaN</td>\n",
       "    </tr>\n",
       "  </tbody>\n",
       "</table>\n",
       "</div>"
      ],
      "text/plain": [
       "   forecast_date  target  horizon     q0.025      q0.25       q0.5      q0.75  \\\n",
       "0     2022-11-30     DAX    1 day  -1.649512  -0.511943   0.048289   0.585039   \n",
       "1     2022-11-30     DAX    2 day  -1.716118  -0.617634  -0.042450   0.567023   \n",
       "2     2022-11-30     DAX    5 day  -1.588044  -0.639968  -0.058170   0.507198   \n",
       "3     2022-11-30     DAX    6 day  -2.037259  -0.632306  -0.024385   0.574010   \n",
       "4     2022-11-30     DAX    7 day  -1.827064  -0.637587  -0.032211   0.588330   \n",
       "5     2022-11-30  energy  36 hour  65.012921  68.100118  69.506895  71.072701   \n",
       "6     2022-11-30  energy  40 hour  57.189412  61.465879  63.588049  65.850470   \n",
       "7     2022-11-30  energy  44 hour  57.854443  60.308466  61.550533  62.883100   \n",
       "8     2022-11-30  energy  60 hour  55.615069  57.697994  58.894911  60.118636   \n",
       "9     2022-11-30  energy  64 hour  50.472717  54.558538  56.306684  58.329389   \n",
       "10    2022-11-30  energy  68 hour  50.583662  53.167804  54.469882  55.824933   \n",
       "11    2022-11-30    wind  36 hour        NaN        NaN        NaN        NaN   \n",
       "12    2022-11-30    wind  48 hour        NaN        NaN        NaN        NaN   \n",
       "13    2022-11-30    wind  60 hour        NaN        NaN        NaN        NaN   \n",
       "14    2022-11-30    wind  72 hour        NaN        NaN        NaN        NaN   \n",
       "15    2022-11-30    wind  84 hour        NaN        NaN        NaN        NaN   \n",
       "\n",
       "       q0.975  \n",
       "0    1.794988  \n",
       "1    1.659931  \n",
       "2    1.536235  \n",
       "3    1.810308  \n",
       "4    1.821287  \n",
       "5   74.067380  \n",
       "6   69.939340  \n",
       "7   65.341431  \n",
       "8   62.436056  \n",
       "9   62.026023  \n",
       "10  58.609352  \n",
       "11        NaN  \n",
       "12        NaN  \n",
       "13        NaN  \n",
       "14        NaN  \n",
       "15        NaN  "
      ]
     },
     "execution_count": 22,
     "metadata": {},
     "output_type": "execute_result"
    }
   ],
   "source": [
    "submission"
   ]
  },
  {
   "cell_type": "code",
   "execution_count": 23,
   "id": "acda488a",
   "metadata": {},
   "outputs": [
    {
     "name": "stdout",
     "output_type": "stream",
     "text": [
      "Submission file created\n"
     ]
    }
   ],
   "source": [
    "create_submission_file(submission)"
   ]
  },
  {
   "cell_type": "markdown",
   "id": "ceb87942",
   "metadata": {},
   "source": [
    "# Check"
   ]
  },
  {
   "cell_type": "code",
   "execution_count": 24,
   "id": "d91f8850",
   "metadata": {},
   "outputs": [
    {
     "name": "stdout",
     "output_type": "stream",
     "text": [
      "{'path': '20221130_GreyWorm.csv', 'exclude_weather': None}\n",
      "Loading file... 20221130_GreyWorm.csv\n",
      "File loaded! Start Checking...\n",
      "---------------------------\n",
      "Checking the Columns...\n",
      "Checking type of columns...\n",
      "----WARNING: Some elements in q0.025 column are not numeric. This may be fine if you only submit 2 out of 3 targets.\n",
      "\n",
      "----WARNING: Some elements in q0.25 column are not numeric. This may be fine if you only submit 2 out of 3 targets.\n",
      "\n",
      "----WARNING: Some elements in q0.5 column are not numeric. This may be fine if you only submit 2 out of 3 targets.\n",
      "\n",
      "----WARNING: Some elements in q0.75 column are not numeric. This may be fine if you only submit 2 out of 3 targets.\n",
      "\n",
      "----WARNING: Some elements in q0.975 column are not numeric. This may be fine if you only submit 2 out of 3 targets.\n",
      "\n",
      "Checking if the Dates make sense...\n",
      "Checking targets...\n",
      "Checking quantiles...\n",
      "Assume that -- wind -- is your NaN-target. Please DOUBLECHECK if this is correct.\n",
      "---------------------------\n",
      "Looks good!\n"
     ]
    }
   ],
   "source": [
    "! python check.py -p 20221130_GreyWorm.csv"
   ]
  },
  {
   "cell_type": "markdown",
   "id": "a03b3b5c",
   "metadata": {},
   "source": [
    "# Testing"
   ]
  },
  {
   "cell_type": "markdown",
   "id": "3e09a167",
   "metadata": {},
   "source": [
    "## DAX"
   ]
  },
  {
   "cell_type": "code",
   "execution_count": null,
   "id": "736d1319",
   "metadata": {},
   "outputs": [],
   "source": [
    "dax_eval(daxdata)"
   ]
  },
  {
   "cell_type": "code",
   "execution_count": null,
   "id": "c789bd65",
   "metadata": {},
   "outputs": [],
   "source": [
    "daxdata = get_dax_data()\n",
    "daxtraindata = daxdata[:-5]\n",
    "daxtestdata = daxdata[-5:]"
   ]
  },
  {
   "cell_type": "code",
   "execution_count": null,
   "id": "f0d6ee3c",
   "metadata": {},
   "outputs": [],
   "source": [
    "daxtestdata.tail(10)"
   ]
  },
  {
   "cell_type": "code",
   "execution_count": null,
   "id": "bbb8ca8e",
   "metadata": {},
   "outputs": [],
   "source": [
    "daxforecast = dax_model(daxtraindata)"
   ]
  },
  {
   "cell_type": "code",
   "execution_count": null,
   "id": "9b4eabec",
   "metadata": {},
   "outputs": [],
   "source": [
    "daxforecast = pd.DataFrame(daxforecast, columns = [\"q0.025\", \"q0.25\", \"q0.5\", \"q0.75\", \"q0.975\"])"
   ]
  },
  {
   "cell_type": "code",
   "execution_count": null,
   "id": "dd606d75",
   "metadata": {},
   "outputs": [],
   "source": [
    "daxforecast[\"q0.025\"]"
   ]
  },
  {
   "cell_type": "code",
   "execution_count": null,
   "id": "57d445a0",
   "metadata": {},
   "outputs": [],
   "source": [
    "daxtestdata"
   ]
  },
  {
   "cell_type": "code",
   "execution_count": null,
   "id": "6bab056a",
   "metadata": {},
   "outputs": [],
   "source": [
    "daxevaldata = daxtestdata.copy(deep=True)\n",
    "daxevaldata[\"q0.025\"] = np.array(daxforecast[\"q0.025\"])\n",
    "daxevaldata[\"q0.25\"] = np.array(daxforecast[\"q0.25\"])\n",
    "daxevaldata[\"q0.5\"] = np.array(daxforecast[\"q0.5\"])\n",
    "daxevaldata[\"q0.75\"] = np.array(daxforecast[\"q0.75\"])\n",
    "daxevaldata[\"q0.975\"] = np.array(daxforecast[\"q0.975\"])"
   ]
  },
  {
   "cell_type": "code",
   "execution_count": null,
   "id": "41110c04",
   "metadata": {},
   "outputs": [],
   "source": [
    "daxevaldata.plot()"
   ]
  },
  {
   "cell_type": "code",
   "execution_count": null,
   "id": "ced4cc64",
   "metadata": {},
   "outputs": [],
   "source": [
    "totalloss = 0\n",
    "for q in [\"q0.025\", \"q0.25\", \"q0.5\", \"q0.75\", \"q0.975\"]:\n",
    "    for i in range(len(daxevaldata)):\n",
    "        totalloss += quantile_loss(daxevaldata[\"data\"].iloc[i], daxevaldata[q].iloc[i], float(q[1:]))\n",
    "totalloss"
   ]
  },
  {
   "cell_type": "markdown",
   "id": "07778298",
   "metadata": {},
   "source": [
    "## Energy"
   ]
  },
  {
   "cell_type": "code",
   "execution_count": null,
   "id": "ce8e3740",
   "metadata": {},
   "outputs": [],
   "source": [
    "energy_eval(energydata)"
   ]
  },
  {
   "cell_type": "code",
   "execution_count": null,
   "id": "20d517e2",
   "metadata": {},
   "outputs": [],
   "source": [
    "#energydata = get_energy_data()\n",
    "energytraindata = energydata[:-168]\n",
    "energytestdata = energydata[-168:]"
   ]
  },
  {
   "cell_type": "code",
   "execution_count": null,
   "id": "f4556c9d",
   "metadata": {},
   "outputs": [],
   "source": [
    "enf12 = energytestdata.loc[(energytestdata.index.dayofweek == 4) & (energytestdata.index.hour == 12)]\n",
    "enf16 = energytestdata.loc[(energytestdata.index.dayofweek == 4) & (energytestdata.index.hour == 16)]\n",
    "enf20 = energytestdata.loc[(energytestdata.index.dayofweek == 4) & (energytestdata.index.hour == 20)]\n",
    "\n",
    "ens12 = energytestdata.loc[(energytestdata.index.dayofweek == 5) & (energytestdata.index.hour == 12)]\n",
    "ens16 = energytestdata.loc[(energytestdata.index.dayofweek == 5) & (energytestdata.index.hour == 16)]\n",
    "ens20 = energytestdata.loc[(energytestdata.index.dayofweek == 5) & (energytestdata.index.hour == 20)]\n",
    "\n",
    "energytestdata = pd.concat([enf12, enf16, enf20, ens12, ens16, ens20])"
   ]
  },
  {
   "cell_type": "code",
   "execution_count": null,
   "id": "30eef253",
   "metadata": {},
   "outputs": [],
   "source": [
    "energyforecast = energy_model(energytraindata)"
   ]
  },
  {
   "cell_type": "code",
   "execution_count": null,
   "id": "3cf03897",
   "metadata": {},
   "outputs": [],
   "source": [
    "energyforecast = pd.DataFrame(energyforecast, columns = [\"q0.025\", \"q0.25\", \"q0.5\", \"q0.75\", \"q0.975\"])"
   ]
  },
  {
   "cell_type": "code",
   "execution_count": null,
   "id": "be433f2a",
   "metadata": {},
   "outputs": [],
   "source": [
    "energyevaldata = energytestdata.copy(deep=True)\n",
    "energyevaldata[\"q0.025\"] = np.array(energyforecast[\"q0.025\"])\n",
    "energyevaldata[\"q0.25\"] = np.array(energyforecast[\"q0.25\"])\n",
    "energyevaldata[\"q0.5\"] = np.array(energyforecast[\"q0.5\"])\n",
    "energyevaldata[\"q0.75\"] = np.array(energyforecast[\"q0.75\"])\n",
    "energyevaldata[\"q0.975\"] = np.array(energyforecast[\"q0.975\"])"
   ]
  },
  {
   "cell_type": "code",
   "execution_count": null,
   "id": "84d3f47c",
   "metadata": {},
   "outputs": [],
   "source": [
    "energyevaldata.data = energyevaldata.data / 1000"
   ]
  },
  {
   "cell_type": "code",
   "execution_count": null,
   "id": "4bd8901e",
   "metadata": {},
   "outputs": [],
   "source": [
    "energyevaldata"
   ]
  },
  {
   "cell_type": "code",
   "execution_count": null,
   "id": "52943b92",
   "metadata": {},
   "outputs": [],
   "source": [
    "energyevaldata.plot()"
   ]
  },
  {
   "cell_type": "code",
   "execution_count": null,
   "id": "e522851d",
   "metadata": {},
   "outputs": [],
   "source": [
    "totalloss = 0\n",
    "for q in [\"q0.025\", \"q0.25\", \"q0.5\", \"q0.75\", \"q0.975\"]:\n",
    "    for i in range(len(energyevaldata)):\n",
    "        totalloss += quantile_loss(energyevaldata[\"data\"].iloc[i], energyevaldata[q].iloc[i], float(q[1:]))\n",
    "totalloss"
   ]
  },
  {
   "cell_type": "code",
   "execution_count": null,
   "id": "a4325f67",
   "metadata": {},
   "outputs": [],
   "source": []
  }
 ],
 "metadata": {
  "kernelspec": {
   "display_name": "Python 3.8.0 ('unienv')",
   "language": "python",
   "name": "python3"
  },
  "language_info": {
   "codemirror_mode": {
    "name": "ipython",
    "version": 3
   },
   "file_extension": ".py",
   "mimetype": "text/x-python",
   "name": "python",
   "nbconvert_exporter": "python",
   "pygments_lexer": "ipython3",
   "version": "3.8.15"
  },
  "vscode": {
   "interpreter": {
    "hash": "f38b949447149ea0cfab77d7ef91d4ded9cd69cfa8714290ff63f8d71753623c"
   }
  }
 },
 "nbformat": 4,
 "nbformat_minor": 5
}
