{
 "cells": [
  {
   "cell_type": "markdown",
   "id": "e69b6ae1",
   "metadata": {},
   "source": [
    "# Notebook to forecast quantiles for the DAX"
   ]
  },
  {
   "cell_type": "markdown",
   "id": "2d24a45e",
   "metadata": {},
   "source": [
    "# Imports"
   ]
  },
  {
   "cell_type": "code",
   "execution_count": 107,
   "id": "d11203bf",
   "metadata": {},
   "outputs": [],
   "source": [
    "import pandas as pd\n",
    "import numpy as np\n",
    "import statsmodels as sm\n",
    "import yfinance as yf\n",
    "from datetime import datetime\n",
    "import requests\n",
    "import json\n",
    "import sys\n",
    "import math\n",
    "\n",
    "from prophet import Prophet\n",
    "\n",
    "from statsmodels.graphics.tsaplots import plot_pacf\n",
    "from statsmodels.graphics.tsaplots import plot_acf\n",
    "from statsmodels.tsa.arima_process import ArmaProcess\n",
    "from statsmodels.stats.diagnostic import acorr_ljungbox\n",
    "from statsmodels.tsa.statespace.sarimax import SARIMAX\n",
    "from statsmodels.tsa.stattools import adfuller\n",
    "from statsmodels.tsa.stattools import pacf\n",
    "from statsmodels.tsa.stattools import acf\n",
    "\n",
    "import arch\n",
    "from arch import arch_model\n",
    "\n",
    "#from darts.models.forecasting.exponential_smoothing import ExponentialSmoothing\n",
    "#from darts.utils.likelihood_models import GaussianLikelihood\n",
    "#from darts.timeseries import TimeSeries\n",
    "\n",
    "pd.set_option('display.max_columns', 500)\n",
    "np.set_printoptions(threshold=sys.maxsize)\n",
    "pd.set_option('display.max_rows', sys.maxsize)"
   ]
  },
  {
   "cell_type": "markdown",
   "id": "4b4e7d42",
   "metadata": {},
   "source": [
    "## Functions"
   ]
  },
  {
   "cell_type": "code",
   "execution_count": 3,
   "id": "a6d5db19",
   "metadata": {},
   "outputs": [],
   "source": [
    "def quantile_loss(y_true, y_pred, quantile):\n",
    "    \n",
    "    if y_true > y_pred:\n",
    "        loss = quantile * (y_true - y_pred)\n",
    "    else:\n",
    "        loss = (1 - quantile) * (y_pred - y_true)\n",
    "    return loss\n"
   ]
  },
  {
   "cell_type": "code",
   "execution_count": 4,
   "id": "ead30f23",
   "metadata": {},
   "outputs": [],
   "source": [
    "def compute_return(y, r_type=\"log\", h=1):\n",
    "    \n",
    "    # exclude first h observations\n",
    "    y2 = y[h:]\n",
    "    # exclude last h observations\n",
    "    y1 = y[:-h]\n",
    "    \n",
    "    if r_type == \"log\":\n",
    "        ret = np.concatenate(([np.nan]*h, 100 * (np.log(y2) - np.log(y1))))\n",
    "    else:\n",
    "        ret = np.concatenate(([np.nan]*h, 100 * (y2-y1)/y1))\n",
    "        \n",
    "    return ret"
   ]
  },
  {
   "cell_type": "code",
   "execution_count": 119,
   "id": "f84ab23a",
   "metadata": {},
   "outputs": [],
   "source": [
    "def create_submission_table():\n",
    "    forecast_date = [str(datetime.now().date())] * 16\n",
    "    target = [\"DAX\"] * 5 + [\"energy\"] * 6 + [\"wind\"] * 5\n",
    "    horizon = ['1 day', '2 day', '5 day', '6 day', '7 day', '36 hour', '40 hour', '44 hour', '60 hour', '64 hour', '68 hour', '36 hour', '48 hour', '60 hour', '72 hour', '84 hour']\n",
    "    \n",
    "    return pd.DataFrame({\"forecast_date\": forecast_date, \"target\": target, \"horizon\": horizon, \"q0.025\": [np.nan]*16, \"q0.25\": [np.nan]*16, \"q0.5\": [np.nan]*16, \"q0.75\": [np.nan]*16, \"q0.975\": [np.nan]*16})"
   ]
  },
  {
   "cell_type": "code",
   "execution_count": 6,
   "id": "d6cf65b3",
   "metadata": {},
   "outputs": [],
   "source": [
    "def get_dax_data():\n",
    "    msft = yf.Ticker(\"^GDAXI\")\n",
    "    hist = msft.history(period=\"max\")\n",
    "    data = hist[[\"Close\"]]\n",
    "    data = data.reset_index().rename(columns={\"Date\": \"date_time\"})\n",
    "    data.set_index(\"date_time\", inplace = True)\n",
    "    data[\"data\"] = compute_return(data.Close.values)\n",
    "    data = data.dropna()\n",
    "    data = data.drop(columns = \"Close\")\n",
    "    #data = data.data.values\n",
    "    \n",
    "    return data"
   ]
  },
  {
   "cell_type": "code",
   "execution_count": 7,
   "id": "fcec5707",
   "metadata": {},
   "outputs": [],
   "source": [
    "def get_energy_data():\n",
    "    data = pd.read_csv(\"energy_data.csv\", sep=\";\")\n",
    "    data = data[data.columns[:3]]\n",
    "    data = data.rename(columns={\"Gesamt (Netzlast)[MWh]\": \"data\"})\n",
    "    data = data[data[\"data\"] != \"-\"]\n",
    "    data[\"date_time\"] = pd.to_datetime(data['Datum'] + ' ' + data['Uhrzeit'], format = '%d.%m.%Y %H:%M')\n",
    "    data = data.drop(columns = [\"Datum\", \"Uhrzeit\"])\n",
    "    data = data.astype({\"data\": float})\n",
    "    data.set_index(\"date_time\", inplace=True)\n",
    "    data = data.resample(\"1h\", label = \"left\").sum()\n",
    "    #data = data.data.values\n",
    "    \n",
    "    return data"
   ]
  },
  {
   "cell_type": "code",
   "execution_count": 158,
   "id": "fcaa2f78",
   "metadata": {},
   "outputs": [],
   "source": [
    "def create_submission_file(submission):\n",
    "    submission.to_csv(datetime.now().strftime(\"%Y%m%d\") + \"_GreyWorm.csv\", index = False)\n",
    "    print(\"Submission file created\")"
   ]
  },
  {
   "cell_type": "markdown",
   "id": "800ce246",
   "metadata": {},
   "source": [
    "# Load Data"
   ]
  },
  {
   "cell_type": "code",
   "execution_count": 82,
   "id": "a501f8e2",
   "metadata": {},
   "outputs": [],
   "source": [
    "daxdata = get_dax_data()\n",
    "energydata = get_energy_data()"
   ]
  },
  {
   "cell_type": "markdown",
   "id": "eff666ad",
   "metadata": {},
   "source": [
    "# Modeling"
   ]
  },
  {
   "cell_type": "markdown",
   "id": "8f250762",
   "metadata": {},
   "source": [
    "## DAX"
   ]
  },
  {
   "cell_type": "markdown",
   "id": "d1f3cef5",
   "metadata": {},
   "source": [
    "### Darts"
   ]
  },
  {
   "cell_type": "code",
   "execution_count": 175,
   "id": "3f8dab57",
   "metadata": {},
   "outputs": [],
   "source": [
    "prob_model = ExponentialSmoothing()"
   ]
  },
  {
   "cell_type": "code",
   "execution_count": 176,
   "id": "b8e75634",
   "metadata": {
    "scrolled": true
   },
   "outputs": [
    {
     "name": "stderr",
     "output_type": "stream",
     "text": [
      "/usr/local/Caskroom/miniconda/base/envs/unienv/lib/python3.8/site-packages/statsmodels/tsa/holtwinters/model.py:915: ConvergenceWarning: Optimization failed to converge. Check mle_retvals.\n",
      "  warnings.warn(\n"
     ]
    }
   ],
   "source": [
    "prob_model = prob_model.fit(TimeSeries.from_values(rets))"
   ]
  },
  {
   "cell_type": "code",
   "execution_count": 177,
   "id": "06b91fa8",
   "metadata": {},
   "outputs": [],
   "source": [
    "pred = prob_model.predict(5, num_samples=100)"
   ]
  },
  {
   "cell_type": "code",
   "execution_count": 178,
   "id": "7f22d943",
   "metadata": {},
   "outputs": [
    {
     "data": {
      "image/png": "[encoded data removed]",
      "text/plain": [
       "<Figure size 640x480 with 1 Axes>"
      ]
     },
     "metadata": {},
     "output_type": "display_data"
    }
   ],
   "source": [
    "pred.quantile_timeseries(0.025).plot(label = \"0.025\")\n",
    "pred.quantile_timeseries(0.25).plot(label = \"0.25\")\n",
    "pred.quantile_timeseries(0.5).plot(label = \"0.5\")\n",
    "pred.quantile_timeseries(0.75).plot(label = \"0.75\")\n",
    "pred.quantile_timeseries(0.975).plot(label = \"0.975\")"
   ]
  },
  {
   "cell_type": "code",
   "execution_count": 179,
   "id": "a516108c",
   "metadata": {},
   "outputs": [],
   "source": [
    "sub = pd.DataFrame({\"q0.025\": pred.quantile_timeseries(0.025).pd_series(),\n",
    "                   \"q0.25\": pred.quantile_timeseries(0.25).pd_series(),\n",
    "                   \"q0.5\": pred.quantile_timeseries(0.5).pd_series(),\n",
    "                   \"q0.75\": pred.quantile_timeseries(0.75).pd_series(),\n",
    "                   \"q0.975\": pred.quantile_timeseries(0.975).pd_series()})"
   ]
  },
  {
   "cell_type": "code",
   "execution_count": 180,
   "id": "67478413",
   "metadata": {},
   "outputs": [],
   "source": [
    "sub = sub.reset_index().drop(columns = \"time\")"
   ]
  },
  {
   "cell_type": "code",
   "execution_count": 181,
   "id": "cb33cd6f",
   "metadata": {},
   "outputs": [],
   "source": [
    "sub[\"forecast_date\"] = \"2022-10-26\"\n",
    "sub[\"target\"] = \"DAX\"\n",
    "sub[\"horizon\"] = [\"1 day\", \"2 day\", \"5 day\", \"6 day\", \"7 day\"]"
   ]
  },
  {
   "cell_type": "code",
   "execution_count": 182,
   "id": "7927dbd1",
   "metadata": {},
   "outputs": [],
   "source": [
    "sub = sub[[\"forecast_date\", \"target\", \"horizon\", \"q0.025\", \"q0.25\", \"q0.5\", \"q0.75\", \"q0.975\"]]"
   ]
  },
  {
   "cell_type": "code",
   "execution_count": 183,
   "id": "87a4b9aa",
   "metadata": {},
   "outputs": [
    {
     "name": "stderr",
     "output_type": "stream",
     "text": [
      "/var/folders/g6/cmh9kt9x26db790xkfg9b3y40000gn/T/ipykernel_54084/1045233296.py:3: FutureWarning: The frame.append method is deprecated and will be removed from pandas in a future version. Use pandas.concat instead.\n",
      "  sub = sub.append(nans, ignore_index = True)\n"
     ]
    }
   ],
   "source": [
    "nans = pd.Series([\"2022-10-26\", \"energy\", None, None, None, None, None, None], index = sub.columns)\n",
    "for i in range(6):\n",
    "    sub = sub.append(nans, ignore_index = True)"
   ]
  },
  {
   "cell_type": "code",
   "execution_count": 184,
   "id": "91d5655d",
   "metadata": {},
   "outputs": [
    {
     "name": "stderr",
     "output_type": "stream",
     "text": [
      "/var/folders/g6/cmh9kt9x26db790xkfg9b3y40000gn/T/ipykernel_54084/4031082620.py:3: FutureWarning: The frame.append method is deprecated and will be removed from pandas in a future version. Use pandas.concat instead.\n",
      "  sub = sub.append(nans, ignore_index = True)\n"
     ]
    }
   ],
   "source": [
    "nans = pd.Series([\"2022-10-26\", \"wind\", None, None, None, None, None, None], index = sub.columns)\n",
    "for i in range(5):\n",
    "    sub = sub.append(nans, ignore_index = True)"
   ]
  },
  {
   "cell_type": "code",
   "execution_count": 190,
   "id": "96763d96",
   "metadata": {},
   "outputs": [
    {
     "name": "stderr",
     "output_type": "stream",
     "text": [
      "/var/folders/g6/cmh9kt9x26db790xkfg9b3y40000gn/T/ipykernel_54084/2573154423.py:1: SettingWithCopyWarning: \n",
      "A value is trying to be set on a copy of a slice from a DataFrame\n",
      "\n",
      "See the caveats in the documentation: https://pandas.pydata.org/pandas-docs/stable/user_guide/indexing.html#returning-a-view-versus-a-copy\n",
      "  sub.horizon.iloc[5:11] = ['36 hour', '40 hour', '44 hour', '60 hour', '64 hour', '68 hour']\n"
     ]
    }
   ],
   "source": [
    "sub.horizon.iloc[5:11] = ['36 hour', '40 hour', '44 hour', '60 hour', '64 hour', '68 hour']"
   ]
  },
  {
   "cell_type": "code",
   "execution_count": 194,
   "id": "9883cf44",
   "metadata": {},
   "outputs": [
    {
     "name": "stderr",
     "output_type": "stream",
     "text": [
      "/var/folders/g6/cmh9kt9x26db790xkfg9b3y40000gn/T/ipykernel_54084/2441354173.py:1: SettingWithCopyWarning: \n",
      "A value is trying to be set on a copy of a slice from a DataFrame\n",
      "\n",
      "See the caveats in the documentation: https://pandas.pydata.org/pandas-docs/stable/user_guide/indexing.html#returning-a-view-versus-a-copy\n",
      "  sub.horizon.iloc[11:16] = ['36 hour', '48 hour', '60 hour', '72 hour', '84 hour']\n"
     ]
    }
   ],
   "source": [
    "sub.horizon.iloc[11:16] = ['36 hour', '48 hour', '60 hour', '72 hour', '84 hour']"
   ]
  },
  {
   "cell_type": "code",
   "execution_count": 195,
   "id": "083f97df",
   "metadata": {},
   "outputs": [
    {
     "data": {
      "text/html": [
       "<div>\n",
       "<style scoped>\n",
       "    .dataframe tbody tr th:only-of-type {\n",
       "        vertical-align: middle;\n",
       "    }\n",
       "\n",
       "    .dataframe tbody tr th {\n",
       "        vertical-align: top;\n",
       "    }\n",
       "\n",
       "    .dataframe thead th {\n",
       "        text-align: right;\n",
       "    }\n",
       "</style>\n",
       "<table border=\"1\" class=\"dataframe\">\n",
       "  <thead>\n",
       "    <tr style=\"text-align: right;\">\n",
       "      <th></th>\n",
       "      <th>forecast_date</th>\n",
       "      <th>target</th>\n",
       "      <th>horizon</th>\n",
       "      <th>q0.025</th>\n",
       "      <th>q0.25</th>\n",
       "      <th>q0.5</th>\n",
       "      <th>q0.75</th>\n",
       "      <th>q0.975</th>\n",
       "    </tr>\n",
       "  </thead>\n",
       "  <tbody>\n",
       "    <tr>\n",
       "      <th>0</th>\n",
       "      <td>2022-10-26</td>\n",
       "      <td>DAX</td>\n",
       "      <td>1 day</td>\n",
       "      <td>-1.944848</td>\n",
       "      <td>0.216140</td>\n",
       "      <td>1.702465</td>\n",
       "      <td>2.997505</td>\n",
       "      <td>5.389528</td>\n",
       "    </tr>\n",
       "    <tr>\n",
       "      <th>1</th>\n",
       "      <td>2022-10-26</td>\n",
       "      <td>DAX</td>\n",
       "      <td>2 day</td>\n",
       "      <td>-1.531212</td>\n",
       "      <td>0.027386</td>\n",
       "      <td>1.577861</td>\n",
       "      <td>3.236119</td>\n",
       "      <td>5.429700</td>\n",
       "    </tr>\n",
       "    <tr>\n",
       "      <th>2</th>\n",
       "      <td>2022-10-26</td>\n",
       "      <td>DAX</td>\n",
       "      <td>5 day</td>\n",
       "      <td>-2.584560</td>\n",
       "      <td>0.215435</td>\n",
       "      <td>1.264385</td>\n",
       "      <td>2.499556</td>\n",
       "      <td>5.471471</td>\n",
       "    </tr>\n",
       "    <tr>\n",
       "      <th>3</th>\n",
       "      <td>2022-10-26</td>\n",
       "      <td>DAX</td>\n",
       "      <td>6 day</td>\n",
       "      <td>-2.050316</td>\n",
       "      <td>0.042469</td>\n",
       "      <td>1.100540</td>\n",
       "      <td>2.606875</td>\n",
       "      <td>4.904985</td>\n",
       "    </tr>\n",
       "    <tr>\n",
       "      <th>4</th>\n",
       "      <td>2022-10-26</td>\n",
       "      <td>DAX</td>\n",
       "      <td>7 day</td>\n",
       "      <td>-3.029857</td>\n",
       "      <td>0.264885</td>\n",
       "      <td>1.560649</td>\n",
       "      <td>3.044176</td>\n",
       "      <td>5.297935</td>\n",
       "    </tr>\n",
       "    <tr>\n",
       "      <th>5</th>\n",
       "      <td>2022-10-26</td>\n",
       "      <td>energy</td>\n",
       "      <td>36 hour</td>\n",
       "      <td>NaN</td>\n",
       "      <td>NaN</td>\n",
       "      <td>NaN</td>\n",
       "      <td>NaN</td>\n",
       "      <td>NaN</td>\n",
       "    </tr>\n",
       "    <tr>\n",
       "      <th>6</th>\n",
       "      <td>2022-10-26</td>\n",
       "      <td>energy</td>\n",
       "      <td>40 hour</td>\n",
       "      <td>NaN</td>\n",
       "      <td>NaN</td>\n",
       "      <td>NaN</td>\n",
       "      <td>NaN</td>\n",
       "      <td>NaN</td>\n",
       "    </tr>\n",
       "    <tr>\n",
       "      <th>7</th>\n",
       "      <td>2022-10-26</td>\n",
       "      <td>energy</td>\n",
       "      <td>44 hour</td>\n",
       "      <td>NaN</td>\n",
       "      <td>NaN</td>\n",
       "      <td>NaN</td>\n",
       "      <td>NaN</td>\n",
       "      <td>NaN</td>\n",
       "    </tr>\n",
       "    <tr>\n",
       "      <th>8</th>\n",
       "      <td>2022-10-26</td>\n",
       "      <td>energy</td>\n",
       "      <td>60 hour</td>\n",
       "      <td>NaN</td>\n",
       "      <td>NaN</td>\n",
       "      <td>NaN</td>\n",
       "      <td>NaN</td>\n",
       "      <td>NaN</td>\n",
       "    </tr>\n",
       "    <tr>\n",
       "      <th>9</th>\n",
       "      <td>2022-10-26</td>\n",
       "      <td>energy</td>\n",
       "      <td>64 hour</td>\n",
       "      <td>NaN</td>\n",
       "      <td>NaN</td>\n",
       "      <td>NaN</td>\n",
       "      <td>NaN</td>\n",
       "      <td>NaN</td>\n",
       "    </tr>\n",
       "    <tr>\n",
       "      <th>10</th>\n",
       "      <td>2022-10-26</td>\n",
       "      <td>energy</td>\n",
       "      <td>68 hour</td>\n",
       "      <td>NaN</td>\n",
       "      <td>NaN</td>\n",
       "      <td>NaN</td>\n",
       "      <td>NaN</td>\n",
       "      <td>NaN</td>\n",
       "    </tr>\n",
       "    <tr>\n",
       "      <th>11</th>\n",
       "      <td>2022-10-26</td>\n",
       "      <td>wind</td>\n",
       "      <td>36 hour</td>\n",
       "      <td>NaN</td>\n",
       "      <td>NaN</td>\n",
       "      <td>NaN</td>\n",
       "      <td>NaN</td>\n",
       "      <td>NaN</td>\n",
       "    </tr>\n",
       "    <tr>\n",
       "      <th>12</th>\n",
       "      <td>2022-10-26</td>\n",
       "      <td>wind</td>\n",
       "      <td>48 hour</td>\n",
       "      <td>NaN</td>\n",
       "      <td>NaN</td>\n",
       "      <td>NaN</td>\n",
       "      <td>NaN</td>\n",
       "      <td>NaN</td>\n",
       "    </tr>\n",
       "    <tr>\n",
       "      <th>13</th>\n",
       "      <td>2022-10-26</td>\n",
       "      <td>wind</td>\n",
       "      <td>60 hour</td>\n",
       "      <td>NaN</td>\n",
       "      <td>NaN</td>\n",
       "      <td>NaN</td>\n",
       "      <td>NaN</td>\n",
       "      <td>NaN</td>\n",
       "    </tr>\n",
       "    <tr>\n",
       "      <th>14</th>\n",
       "      <td>2022-10-26</td>\n",
       "      <td>wind</td>\n",
       "      <td>72 hour</td>\n",
       "      <td>NaN</td>\n",
       "      <td>NaN</td>\n",
       "      <td>NaN</td>\n",
       "      <td>NaN</td>\n",
       "      <td>NaN</td>\n",
       "    </tr>\n",
       "    <tr>\n",
       "      <th>15</th>\n",
       "      <td>2022-10-26</td>\n",
       "      <td>wind</td>\n",
       "      <td>84 hour</td>\n",
       "      <td>NaN</td>\n",
       "      <td>NaN</td>\n",
       "      <td>NaN</td>\n",
       "      <td>NaN</td>\n",
       "      <td>NaN</td>\n",
       "    </tr>\n",
       "  </tbody>\n",
       "</table>\n",
       "</div>"
      ],
      "text/plain": [
       "   forecast_date  target  horizon    q0.025     q0.25      q0.5     q0.75  \\\n",
       "0     2022-10-26     DAX    1 day -1.944848  0.216140  1.702465  2.997505   \n",
       "1     2022-10-26     DAX    2 day -1.531212  0.027386  1.577861  3.236119   \n",
       "2     2022-10-26     DAX    5 day -2.584560  0.215435  1.264385  2.499556   \n",
       "3     2022-10-26     DAX    6 day -2.050316  0.042469  1.100540  2.606875   \n",
       "4     2022-10-26     DAX    7 day -3.029857  0.264885  1.560649  3.044176   \n",
       "5     2022-10-26  energy  36 hour       NaN       NaN       NaN       NaN   \n",
       "6     2022-10-26  energy  40 hour       NaN       NaN       NaN       NaN   \n",
       "7     2022-10-26  energy  44 hour       NaN       NaN       NaN       NaN   \n",
       "8     2022-10-26  energy  60 hour       NaN       NaN       NaN       NaN   \n",
       "9     2022-10-26  energy  64 hour       NaN       NaN       NaN       NaN   \n",
       "10    2022-10-26  energy  68 hour       NaN       NaN       NaN       NaN   \n",
       "11    2022-10-26    wind  36 hour       NaN       NaN       NaN       NaN   \n",
       "12    2022-10-26    wind  48 hour       NaN       NaN       NaN       NaN   \n",
       "13    2022-10-26    wind  60 hour       NaN       NaN       NaN       NaN   \n",
       "14    2022-10-26    wind  72 hour       NaN       NaN       NaN       NaN   \n",
       "15    2022-10-26    wind  84 hour       NaN       NaN       NaN       NaN   \n",
       "\n",
       "      q0.975  \n",
       "0   5.389528  \n",
       "1   5.429700  \n",
       "2   5.471471  \n",
       "3   4.904985  \n",
       "4   5.297935  \n",
       "5        NaN  \n",
       "6        NaN  \n",
       "7        NaN  \n",
       "8        NaN  \n",
       "9        NaN  \n",
       "10       NaN  \n",
       "11       NaN  \n",
       "12       NaN  \n",
       "13       NaN  \n",
       "14       NaN  \n",
       "15       NaN  "
      ]
     },
     "execution_count": 195,
     "metadata": {},
     "output_type": "execute_result"
    }
   ],
   "source": [
    "sub"
   ]
  },
  {
   "cell_type": "code",
   "execution_count": 196,
   "id": "e6e01d26",
   "metadata": {},
   "outputs": [],
   "source": [
    "sub.to_csv(\"20221026_GreyWorm.csv\", index = False)"
   ]
  },
  {
   "cell_type": "markdown",
   "id": "239ea0b9",
   "metadata": {},
   "source": [
    "### Prophet"
   ]
  },
  {
   "cell_type": "code",
   "execution_count": 9,
   "id": "fbbe393a",
   "metadata": {},
   "outputs": [],
   "source": [
    "daxdata = daxdata.reset_index()\n",
    "daxdata = daxdata.rename(columns={\"date_time\": \"ds\", \"data\": \"y\"})\n",
    "daxdata[\"ds\"] = daxdata['ds'].dt.date\n",
    "daxdata[\"ds\"] = pd.to_datetime(daxdata.ds)"
   ]
  },
  {
   "cell_type": "code",
   "execution_count": 12,
   "id": "1dd256ff",
   "metadata": {},
   "outputs": [
    {
     "name": "stderr",
     "output_type": "stream",
     "text": [
      "INFO:prophet:Disabling daily seasonality. Run prophet with daily_seasonality=True to override this.\n",
      "INFO:cmdstanpy:start chain 1\n",
      "INFO:cmdstanpy:finish chain 1\n"
     ]
    },
    {
     "data": {
      "text/plain": [
       "<prophet.forecaster.Prophet at 0x7fdd92e2e430>"
      ]
     },
     "execution_count": 12,
     "metadata": {},
     "output_type": "execute_result"
    }
   ],
   "source": [
    "model = Prophet()\n",
    "model.fit(daxdata)"
   ]
  },
  {
   "cell_type": "code",
   "execution_count": 13,
   "id": "5386ce71",
   "metadata": {},
   "outputs": [],
   "source": [
    "forecast = model.make_future_dataframe(periods=5)"
   ]
  },
  {
   "cell_type": "code",
   "execution_count": 14,
   "id": "53174a8c",
   "metadata": {},
   "outputs": [],
   "source": [
    "forecast = model.predict(forecast)"
   ]
  },
  {
   "cell_type": "code",
   "execution_count": 16,
   "id": "0af19436",
   "metadata": {},
   "outputs": [],
   "source": [
    "forecast = pd.merge(forecast, daxdata, on=\"ds\", how=\"left\")"
   ]
  },
  {
   "cell_type": "code",
   "execution_count": 24,
   "id": "27b18825",
   "metadata": {},
   "outputs": [
    {
     "data": {
      "text/html": [
       "<div>\n",
       "<style scoped>\n",
       "    .dataframe tbody tr th:only-of-type {\n",
       "        vertical-align: middle;\n",
       "    }\n",
       "\n",
       "    .dataframe tbody tr th {\n",
       "        vertical-align: top;\n",
       "    }\n",
       "\n",
       "    .dataframe thead th {\n",
       "        text-align: right;\n",
       "    }\n",
       "</style>\n",
       "<table border=\"1\" class=\"dataframe\">\n",
       "  <thead>\n",
       "    <tr style=\"text-align: right;\">\n",
       "      <th></th>\n",
       "      <th>ds</th>\n",
       "      <th>trend</th>\n",
       "      <th>yhat_lower</th>\n",
       "      <th>yhat_upper</th>\n",
       "      <th>trend_lower</th>\n",
       "      <th>trend_upper</th>\n",
       "      <th>additive_terms</th>\n",
       "      <th>additive_terms_lower</th>\n",
       "      <th>additive_terms_upper</th>\n",
       "      <th>weekly</th>\n",
       "      <th>weekly_lower</th>\n",
       "      <th>weekly_upper</th>\n",
       "      <th>yearly</th>\n",
       "      <th>yearly_lower</th>\n",
       "      <th>yearly_upper</th>\n",
       "      <th>multiplicative_terms</th>\n",
       "      <th>multiplicative_terms_lower</th>\n",
       "      <th>multiplicative_terms_upper</th>\n",
       "      <th>yhat</th>\n",
       "      <th>y</th>\n",
       "    </tr>\n",
       "  </thead>\n",
       "  <tbody>\n",
       "    <tr>\n",
       "      <th>8800</th>\n",
       "      <td>2022-10-27</td>\n",
       "      <td>-0.816971</td>\n",
       "      <td>-1.707498</td>\n",
       "      <td>1.793633</td>\n",
       "      <td>-0.816971</td>\n",
       "      <td>-0.816971</td>\n",
       "      <td>0.859546</td>\n",
       "      <td>0.859546</td>\n",
       "      <td>0.859546</td>\n",
       "      <td>0.801165</td>\n",
       "      <td>0.801165</td>\n",
       "      <td>0.801165</td>\n",
       "      <td>0.058381</td>\n",
       "      <td>0.058381</td>\n",
       "      <td>0.058381</td>\n",
       "      <td>0.0</td>\n",
       "      <td>0.0</td>\n",
       "      <td>0.0</td>\n",
       "      <td>0.042575</td>\n",
       "      <td>0.116794</td>\n",
       "    </tr>\n",
       "    <tr>\n",
       "      <th>8801</th>\n",
       "      <td>2022-10-28</td>\n",
       "      <td>-0.816971</td>\n",
       "      <td>-1.778035</td>\n",
       "      <td>1.794708</td>\n",
       "      <td>-0.816971</td>\n",
       "      <td>-0.816971</td>\n",
       "      <td>0.880046</td>\n",
       "      <td>0.880046</td>\n",
       "      <td>0.880046</td>\n",
       "      <td>0.827649</td>\n",
       "      <td>0.827649</td>\n",
       "      <td>0.827649</td>\n",
       "      <td>0.052397</td>\n",
       "      <td>0.052397</td>\n",
       "      <td>0.052397</td>\n",
       "      <td>0.0</td>\n",
       "      <td>0.0</td>\n",
       "      <td>0.0</td>\n",
       "      <td>0.063075</td>\n",
       "      <td>0.242677</td>\n",
       "    </tr>\n",
       "    <tr>\n",
       "      <th>8802</th>\n",
       "      <td>2022-10-31</td>\n",
       "      <td>-0.816973</td>\n",
       "      <td>-1.721708</td>\n",
       "      <td>1.868690</td>\n",
       "      <td>-0.816973</td>\n",
       "      <td>-0.816973</td>\n",
       "      <td>0.903495</td>\n",
       "      <td>0.903495</td>\n",
       "      <td>0.903495</td>\n",
       "      <td>0.863445</td>\n",
       "      <td>0.863445</td>\n",
       "      <td>0.863445</td>\n",
       "      <td>0.040051</td>\n",
       "      <td>0.040051</td>\n",
       "      <td>0.040051</td>\n",
       "      <td>0.0</td>\n",
       "      <td>0.0</td>\n",
       "      <td>0.0</td>\n",
       "      <td>0.086522</td>\n",
       "      <td>0.078576</td>\n",
       "    </tr>\n",
       "    <tr>\n",
       "      <th>8803</th>\n",
       "      <td>2022-11-01</td>\n",
       "      <td>-0.816974</td>\n",
       "      <td>-1.692930</td>\n",
       "      <td>1.798402</td>\n",
       "      <td>-0.816974</td>\n",
       "      <td>-0.816974</td>\n",
       "      <td>0.910618</td>\n",
       "      <td>0.910618</td>\n",
       "      <td>0.910618</td>\n",
       "      <td>0.872337</td>\n",
       "      <td>0.872337</td>\n",
       "      <td>0.872337</td>\n",
       "      <td>0.038281</td>\n",
       "      <td>0.038281</td>\n",
       "      <td>0.038281</td>\n",
       "      <td>0.0</td>\n",
       "      <td>0.0</td>\n",
       "      <td>0.0</td>\n",
       "      <td>0.093644</td>\n",
       "      <td>0.639281</td>\n",
       "    </tr>\n",
       "    <tr>\n",
       "      <th>8804</th>\n",
       "      <td>2022-11-02</td>\n",
       "      <td>-0.816974</td>\n",
       "      <td>-1.793985</td>\n",
       "      <td>1.765202</td>\n",
       "      <td>-0.816974</td>\n",
       "      <td>-0.816974</td>\n",
       "      <td>0.866090</td>\n",
       "      <td>0.866090</td>\n",
       "      <td>0.866090</td>\n",
       "      <td>0.828272</td>\n",
       "      <td>0.828272</td>\n",
       "      <td>0.828272</td>\n",
       "      <td>0.037817</td>\n",
       "      <td>0.037817</td>\n",
       "      <td>0.037817</td>\n",
       "      <td>0.0</td>\n",
       "      <td>0.0</td>\n",
       "      <td>0.0</td>\n",
       "      <td>0.049115</td>\n",
       "      <td>-0.250260</td>\n",
       "    </tr>\n",
       "    <tr>\n",
       "      <th>8805</th>\n",
       "      <td>2022-11-03</td>\n",
       "      <td>-0.816975</td>\n",
       "      <td>-1.732707</td>\n",
       "      <td>1.820980</td>\n",
       "      <td>-0.816975</td>\n",
       "      <td>-0.816975</td>\n",
       "      <td>0.839838</td>\n",
       "      <td>0.839838</td>\n",
       "      <td>0.839838</td>\n",
       "      <td>0.801165</td>\n",
       "      <td>0.801165</td>\n",
       "      <td>0.801165</td>\n",
       "      <td>0.038674</td>\n",
       "      <td>0.038674</td>\n",
       "      <td>0.038674</td>\n",
       "      <td>0.0</td>\n",
       "      <td>0.0</td>\n",
       "      <td>0.0</td>\n",
       "      <td>0.022863</td>\n",
       "      <td>NaN</td>\n",
       "    </tr>\n",
       "    <tr>\n",
       "      <th>8806</th>\n",
       "      <td>2022-11-04</td>\n",
       "      <td>-0.816975</td>\n",
       "      <td>-1.680030</td>\n",
       "      <td>1.851443</td>\n",
       "      <td>-0.816975</td>\n",
       "      <td>-0.816975</td>\n",
       "      <td>0.868465</td>\n",
       "      <td>0.868465</td>\n",
       "      <td>0.868465</td>\n",
       "      <td>0.827649</td>\n",
       "      <td>0.827649</td>\n",
       "      <td>0.827649</td>\n",
       "      <td>0.040816</td>\n",
       "      <td>0.040816</td>\n",
       "      <td>0.040816</td>\n",
       "      <td>0.0</td>\n",
       "      <td>0.0</td>\n",
       "      <td>0.0</td>\n",
       "      <td>0.051490</td>\n",
       "      <td>NaN</td>\n",
       "    </tr>\n",
       "    <tr>\n",
       "      <th>8807</th>\n",
       "      <td>2022-11-05</td>\n",
       "      <td>-0.816976</td>\n",
       "      <td>-4.733083</td>\n",
       "      <td>-1.054194</td>\n",
       "      <td>-0.816976</td>\n",
       "      <td>-0.816976</td>\n",
       "      <td>-2.052265</td>\n",
       "      <td>-2.052265</td>\n",
       "      <td>-2.052265</td>\n",
       "      <td>-2.096433</td>\n",
       "      <td>-2.096433</td>\n",
       "      <td>-2.096433</td>\n",
       "      <td>0.044168</td>\n",
       "      <td>0.044168</td>\n",
       "      <td>0.044168</td>\n",
       "      <td>0.0</td>\n",
       "      <td>0.0</td>\n",
       "      <td>0.0</td>\n",
       "      <td>-2.869241</td>\n",
       "      <td>NaN</td>\n",
       "    </tr>\n",
       "    <tr>\n",
       "      <th>8808</th>\n",
       "      <td>2022-11-06</td>\n",
       "      <td>-0.816977</td>\n",
       "      <td>-4.643498</td>\n",
       "      <td>-1.117687</td>\n",
       "      <td>-0.816977</td>\n",
       "      <td>-0.816977</td>\n",
       "      <td>-2.047825</td>\n",
       "      <td>-2.047825</td>\n",
       "      <td>-2.047825</td>\n",
       "      <td>-2.096434</td>\n",
       "      <td>-2.096434</td>\n",
       "      <td>-2.096434</td>\n",
       "      <td>0.048609</td>\n",
       "      <td>0.048609</td>\n",
       "      <td>0.048609</td>\n",
       "      <td>0.0</td>\n",
       "      <td>0.0</td>\n",
       "      <td>0.0</td>\n",
       "      <td>-2.864802</td>\n",
       "      <td>NaN</td>\n",
       "    </tr>\n",
       "    <tr>\n",
       "      <th>8809</th>\n",
       "      <td>2022-11-07</td>\n",
       "      <td>-0.816977</td>\n",
       "      <td>-1.776479</td>\n",
       "      <td>1.887420</td>\n",
       "      <td>-0.816977</td>\n",
       "      <td>-0.816977</td>\n",
       "      <td>0.917427</td>\n",
       "      <td>0.917427</td>\n",
       "      <td>0.917427</td>\n",
       "      <td>0.863445</td>\n",
       "      <td>0.863445</td>\n",
       "      <td>0.863445</td>\n",
       "      <td>0.053982</td>\n",
       "      <td>0.053982</td>\n",
       "      <td>0.053982</td>\n",
       "      <td>0.0</td>\n",
       "      <td>0.0</td>\n",
       "      <td>0.0</td>\n",
       "      <td>0.100450</td>\n",
       "      <td>NaN</td>\n",
       "    </tr>\n",
       "  </tbody>\n",
       "</table>\n",
       "</div>"
      ],
      "text/plain": [
       "             ds     trend  yhat_lower  yhat_upper  trend_lower  trend_upper  \\\n",
       "8800 2022-10-27 -0.816971   -1.707498    1.793633    -0.816971    -0.816971   \n",
       "8801 2022-10-28 -0.816971   -1.778035    1.794708    -0.816971    -0.816971   \n",
       "8802 2022-10-31 -0.816973   -1.721708    1.868690    -0.816973    -0.816973   \n",
       "8803 2022-11-01 -0.816974   -1.692930    1.798402    -0.816974    -0.816974   \n",
       "8804 2022-11-02 -0.816974   -1.793985    1.765202    -0.816974    -0.816974   \n",
       "8805 2022-11-03 -0.816975   -1.732707    1.820980    -0.816975    -0.816975   \n",
       "8806 2022-11-04 -0.816975   -1.680030    1.851443    -0.816975    -0.816975   \n",
       "8807 2022-11-05 -0.816976   -4.733083   -1.054194    -0.816976    -0.816976   \n",
       "8808 2022-11-06 -0.816977   -4.643498   -1.117687    -0.816977    -0.816977   \n",
       "8809 2022-11-07 -0.816977   -1.776479    1.887420    -0.816977    -0.816977   \n",
       "\n",
       "      additive_terms  additive_terms_lower  additive_terms_upper    weekly  \\\n",
       "8800        0.859546              0.859546              0.859546  0.801165   \n",
       "8801        0.880046              0.880046              0.880046  0.827649   \n",
       "8802        0.903495              0.903495              0.903495  0.863445   \n",
       "8803        0.910618              0.910618              0.910618  0.872337   \n",
       "8804        0.866090              0.866090              0.866090  0.828272   \n",
       "8805        0.839838              0.839838              0.839838  0.801165   \n",
       "8806        0.868465              0.868465              0.868465  0.827649   \n",
       "8807       -2.052265             -2.052265             -2.052265 -2.096433   \n",
       "8808       -2.047825             -2.047825             -2.047825 -2.096434   \n",
       "8809        0.917427              0.917427              0.917427  0.863445   \n",
       "\n",
       "      weekly_lower  weekly_upper    yearly  yearly_lower  yearly_upper  \\\n",
       "8800      0.801165      0.801165  0.058381      0.058381      0.058381   \n",
       "8801      0.827649      0.827649  0.052397      0.052397      0.052397   \n",
       "8802      0.863445      0.863445  0.040051      0.040051      0.040051   \n",
       "8803      0.872337      0.872337  0.038281      0.038281      0.038281   \n",
       "8804      0.828272      0.828272  0.037817      0.037817      0.037817   \n",
       "8805      0.801165      0.801165  0.038674      0.038674      0.038674   \n",
       "8806      0.827649      0.827649  0.040816      0.040816      0.040816   \n",
       "8807     -2.096433     -2.096433  0.044168      0.044168      0.044168   \n",
       "8808     -2.096434     -2.096434  0.048609      0.048609      0.048609   \n",
       "8809      0.863445      0.863445  0.053982      0.053982      0.053982   \n",
       "\n",
       "      multiplicative_terms  multiplicative_terms_lower  \\\n",
       "8800                   0.0                         0.0   \n",
       "8801                   0.0                         0.0   \n",
       "8802                   0.0                         0.0   \n",
       "8803                   0.0                         0.0   \n",
       "8804                   0.0                         0.0   \n",
       "8805                   0.0                         0.0   \n",
       "8806                   0.0                         0.0   \n",
       "8807                   0.0                         0.0   \n",
       "8808                   0.0                         0.0   \n",
       "8809                   0.0                         0.0   \n",
       "\n",
       "      multiplicative_terms_upper      yhat         y  \n",
       "8800                         0.0  0.042575  0.116794  \n",
       "8801                         0.0  0.063075  0.242677  \n",
       "8802                         0.0  0.086522  0.078576  \n",
       "8803                         0.0  0.093644  0.639281  \n",
       "8804                         0.0  0.049115 -0.250260  \n",
       "8805                         0.0  0.022863       NaN  \n",
       "8806                         0.0  0.051490       NaN  \n",
       "8807                         0.0 -2.869241       NaN  \n",
       "8808                         0.0 -2.864802       NaN  \n",
       "8809                         0.0  0.100450       NaN  "
      ]
     },
     "execution_count": 24,
     "metadata": {},
     "output_type": "execute_result"
    }
   ],
   "source": [
    "forecast.tail(10)"
   ]
  },
  {
   "cell_type": "code",
   "execution_count": 23,
   "id": "fc97b66c",
   "metadata": {},
   "outputs": [
    {
     "data": {
      "text/plain": [
       "<AxesSubplot: >"
      ]
     },
     "execution_count": 23,
     "metadata": {},
     "output_type": "execute_result"
    },
    {
     "data": {
      "image/png": "[encoded data removed]",
      "text/plain": [
       "<Figure size 640x480 with 1 Axes>"
      ]
     },
     "metadata": {},
     "output_type": "display_data"
    }
   ],
   "source": [
    "forecast[[\"yhat\", \"y\", \"yhat_upper\", \"yhat_lower\"]].plot()"
   ]
  },
  {
   "cell_type": "markdown",
   "id": "5f57162c",
   "metadata": {},
   "source": [
    "### ARMA"
   ]
  },
  {
   "cell_type": "code",
   "execution_count": 34,
   "id": "f6cb1a6e",
   "metadata": {},
   "outputs": [
    {
     "data": {
      "text/html": [
       "<div>\n",
       "<style scoped>\n",
       "    .dataframe tbody tr th:only-of-type {\n",
       "        vertical-align: middle;\n",
       "    }\n",
       "\n",
       "    .dataframe tbody tr th {\n",
       "        vertical-align: top;\n",
       "    }\n",
       "\n",
       "    .dataframe thead th {\n",
       "        text-align: right;\n",
       "    }\n",
       "</style>\n",
       "<table border=\"1\" class=\"dataframe\">\n",
       "  <thead>\n",
       "    <tr style=\"text-align: right;\">\n",
       "      <th></th>\n",
       "      <th>data</th>\n",
       "    </tr>\n",
       "    <tr>\n",
       "      <th>date_time</th>\n",
       "      <th></th>\n",
       "    </tr>\n",
       "  </thead>\n",
       "  <tbody>\n",
       "    <tr>\n",
       "      <th>1988-01-04 00:00:00+01:00</th>\n",
       "      <td>-4.966154</td>\n",
       "    </tr>\n",
       "    <tr>\n",
       "      <th>1988-01-05 00:00:00+01:00</th>\n",
       "      <td>4.057731</td>\n",
       "    </tr>\n",
       "    <tr>\n",
       "      <th>1988-01-06 00:00:00+01:00</th>\n",
       "      <td>0.989967</td>\n",
       "    </tr>\n",
       "    <tr>\n",
       "      <th>1988-01-07 00:00:00+01:00</th>\n",
       "      <td>0.837426</td>\n",
       "    </tr>\n",
       "    <tr>\n",
       "      <th>1988-01-08 00:00:00+01:00</th>\n",
       "      <td>1.197370</td>\n",
       "    </tr>\n",
       "  </tbody>\n",
       "</table>\n",
       "</div>"
      ],
      "text/plain": [
       "                               data\n",
       "date_time                          \n",
       "1988-01-04 00:00:00+01:00 -4.966154\n",
       "1988-01-05 00:00:00+01:00  4.057731\n",
       "1988-01-06 00:00:00+01:00  0.989967\n",
       "1988-01-07 00:00:00+01:00  0.837426\n",
       "1988-01-08 00:00:00+01:00  1.197370"
      ]
     },
     "execution_count": 34,
     "metadata": {},
     "output_type": "execute_result"
    }
   ],
   "source": [
    "daxdata.head()"
   ]
  },
  {
   "cell_type": "code",
   "execution_count": 70,
   "id": "45415aac",
   "metadata": {},
   "outputs": [],
   "source": [
    "daxdata.data = daxdata.data**2"
   ]
  },
  {
   "cell_type": "code",
   "execution_count": 71,
   "id": "558b1b35",
   "metadata": {},
   "outputs": [
    {
     "data": {
      "text/plain": [
       "<AxesSubplot: xlabel='date_time'>"
      ]
     },
     "execution_count": 71,
     "metadata": {},
     "output_type": "execute_result"
    },
    {
     "data": {
      "image/png": "[encoded data removed]",
      "text/plain": [
       "<Figure size 640x480 with 1 Axes>"
      ]
     },
     "metadata": {},
     "output_type": "display_data"
    }
   ],
   "source": [
    "daxdata.data.plot()\n"
   ]
  },
  {
   "cell_type": "code",
   "execution_count": 38,
   "id": "dcbae0a1",
   "metadata": {},
   "outputs": [
    {
     "name": "stderr",
     "output_type": "stream",
     "text": [
      "/usr/local/Caskroom/miniconda/base/envs/unienv/lib/python3.8/site-packages/statsmodels/graphics/tsaplots.py:348: FutureWarning: The default method 'yw' can produce PACF values outside of the [-1,1] interval. After 0.13, the default will change tounadjusted Yule-Walker ('ywm'). You can use this method now by setting method='ywm'.\n",
      "  warnings.warn(\n"
     ]
    },
    {
     "data": {
      "image/png": "[encoded data removed]",
      "text/plain": [
       "<Figure size 640x480 with 1 Axes>"
      ]
     },
     "execution_count": 38,
     "metadata": {},
     "output_type": "execute_result"
    },
    {
     "data": {
      "image/png": "[encoded data removed]",
      "text/plain": [
       "<Figure size 640x480 with 1 Axes>"
      ]
     },
     "metadata": {},
     "output_type": "display_data"
    }
   ],
   "source": [
    "plot_pacf(daxdata.data**2)"
   ]
  },
  {
   "cell_type": "code",
   "execution_count": 39,
   "id": "22787e5a",
   "metadata": {},
   "outputs": [
    {
     "name": "stderr",
     "output_type": "stream",
     "text": [
      "/usr/local/Caskroom/miniconda/base/envs/unienv/lib/python3.8/site-packages/statsmodels/tsa/base/tsa_model.py:471: ValueWarning: A date index has been provided, but it has no associated frequency information and so will be ignored when e.g. forecasting.\n",
      "  self._init_dates(dates, freq)\n",
      "/usr/local/Caskroom/miniconda/base/envs/unienv/lib/python3.8/site-packages/statsmodels/tsa/base/tsa_model.py:471: ValueWarning: A date index has been provided, but it has no associated frequency information and so will be ignored when e.g. forecasting.\n",
      "  self._init_dates(dates, freq)\n",
      " This problem is unconstrained.\n"
     ]
    },
    {
     "name": "stdout",
     "output_type": "stream",
     "text": [
      "RUNNING THE L-BFGS-B CODE\n",
      "\n",
      "           * * *\n",
      "\n",
      "Machine precision = 2.220D-16\n",
      " N =            7     M =           10\n",
      "\n",
      "At X0         0 variables are exactly at the bounds\n",
      "\n",
      "At iterate    0    f=  3.11031D+00    |proj g|=  3.33404D-02\n",
      "\n",
      "At iterate    5    f=  3.10836D+00    |proj g|=  3.45692D-03\n",
      "\n",
      "At iterate   10    f=  3.10797D+00    |proj g|=  8.01006D-04\n",
      "\n",
      "At iterate   15    f=  3.10795D+00    |proj g|=  2.10936D-04\n",
      "\n",
      "At iterate   20    f=  3.10786D+00    |proj g|=  4.83190D-03\n",
      "\n",
      "At iterate   25    f=  3.10765D+00    |proj g|=  1.39216D-02\n",
      "\n",
      "At iterate   30    f=  3.10748D+00    |proj g|=  1.29204D-03\n",
      "\n",
      "At iterate   35    f=  3.10743D+00    |proj g|=  9.10992D-04\n",
      "\n",
      "At iterate   40    f=  3.10742D+00    |proj g|=  1.85914D-04\n",
      "\n",
      "           * * *\n",
      "\n",
      "Tit   = total number of iterations\n",
      "Tnf   = total number of function evaluations\n",
      "Tnint = total number of segments explored during Cauchy searches\n",
      "Skip  = number of BFGS updates skipped\n",
      "Nact  = number of active bounds at final generalized Cauchy point\n",
      "Projg = norm of the final projected gradient\n",
      "F     = final function value\n",
      "\n",
      "           * * *\n",
      "\n",
      "   N    Tit     Tnf  Tnint  Skip  Nact     Projg        F\n",
      "    7     42     55      1     0     0   8.853D-05   3.107D+00\n",
      "  F =   3.1074158502413729     \n",
      "\n",
      "CONVERGENCE: REL_REDUCTION_OF_F_<=_FACTR*EPSMCH             \n",
      "                               SARIMAX Results                                \n",
      "==============================================================================\n",
      "Dep. Variable:                   data   No. Observations:                 8805\n",
      "Model:               SARIMAX(3, 0, 3)   Log Likelihood              -27360.797\n",
      "Date:                Wed, 02 Nov 2022   AIC                          54735.593\n",
      "Time:                        15:25:26   BIC                          54785.175\n",
      "Sample:                             0   HQIC                         54752.483\n",
      "                               - 8805                                         \n",
      "Covariance Type:                  opg                                         \n",
      "==============================================================================\n",
      "                 coef    std err          z      P>|z|      [0.025      0.975]\n",
      "------------------------------------------------------------------------------\n",
      "ar.L1         -0.3014      0.016    -19.036      0.000      -0.332      -0.270\n",
      "ar.L2          0.3496      0.012     30.336      0.000       0.327       0.372\n",
      "ar.L3          0.9108      0.013     69.306      0.000       0.885       0.937\n",
      "ma.L1          0.3629      0.018     20.728      0.000       0.329       0.397\n",
      "ma.L2         -0.2470      0.013    -18.931      0.000      -0.273      -0.221\n",
      "ma.L3         -0.8072      0.013    -60.445      0.000      -0.833      -0.781\n",
      "sigma2        29.2711      0.039    756.636      0.000      29.195      29.347\n",
      "===================================================================================\n",
      "Ljung-Box (L1) (Q):                   7.93   Jarque-Bera (JB):          47897042.64\n",
      "Prob(Q):                              0.00   Prob(JB):                         0.00\n",
      "Heteroskedasticity (H):               0.91   Skew:                            13.66\n",
      "Prob(H) (two-sided):                  0.01   Kurtosis:                       363.29\n",
      "===================================================================================\n",
      "\n",
      "Warnings:\n",
      "[1] Covariance matrix calculated using the outer product of gradients (complex-step).\n"
     ]
    }
   ],
   "source": [
    "model = SARIMAX(daxdata['data']**2, order=(3,0,3)).fit()\n",
    "print(model.summary())"
   ]
  },
  {
   "cell_type": "code",
   "execution_count": 62,
   "id": "ea455ad5",
   "metadata": {},
   "outputs": [],
   "source": [
    "arcoefs = [1] + list(model.params)[:-1][0:3] #0:p\n",
    "macoefs = [1] + list(model.params)[:-1][3:3+3] #p:p+q"
   ]
  },
  {
   "cell_type": "code",
   "execution_count": 63,
   "id": "f2ed1f4d",
   "metadata": {},
   "outputs": [
    {
     "data": {
      "text/plain": [
       "[1, 0.36285135464551854, -0.24697720274812993, -0.8072258385211268]"
      ]
     },
     "execution_count": 63,
     "metadata": {},
     "output_type": "execute_result"
    }
   ],
   "source": [
    "macoefs"
   ]
  },
  {
   "cell_type": "code",
   "execution_count": 64,
   "id": "2585bad6",
   "metadata": {},
   "outputs": [],
   "source": [
    "armadata = ArmaProcess(arcoefs, macoefs).generate_sample(nsample=1000)"
   ]
  },
  {
   "cell_type": "code",
   "execution_count": 67,
   "id": "d769aedd",
   "metadata": {},
   "outputs": [
    {
     "data": {
      "text/plain": [
       "<AxesSubplot: >"
      ]
     },
     "execution_count": 67,
     "metadata": {},
     "output_type": "execute_result"
    },
    {
     "data": {
      "image/png": "[encoded data removed]",
      "text/plain": [
       "<Figure size 640x480 with 1 Axes>"
      ]
     },
     "metadata": {},
     "output_type": "display_data"
    }
   ],
   "source": [
    "pd.DataFrame(armadata[-100:]).plot()"
   ]
  },
  {
   "cell_type": "markdown",
   "id": "b2bfea53",
   "metadata": {},
   "source": [
    "### GARCH"
   ]
  },
  {
   "cell_type": "code",
   "execution_count": null,
   "id": "1dcc51b0",
   "metadata": {},
   "outputs": [],
   "source": [
    "daxdata"
   ]
  },
  {
   "cell_type": "code",
   "execution_count": 87,
   "id": "078a8a1e",
   "metadata": {},
   "outputs": [],
   "source": [
    "model = arch_model(daxdata, mean='Zero', vol='GARCH', p=15, q=15)"
   ]
  },
  {
   "cell_type": "code",
   "execution_count": 88,
   "id": "9f7d75ac",
   "metadata": {},
   "outputs": [
    {
     "name": "stdout",
     "output_type": "stream",
     "text": [
      "Iteration:      1,   Func. Count:     33,   Neg. LLF: 21940.665620481683\n",
      "Iteration:      2,   Func. Count:     69,   Neg. LLF: 339206.7534041328\n",
      "Iteration:      3,   Func. Count:    102,   Neg. LLF: 17451.236967696157\n",
      "Iteration:      4,   Func. Count:    135,   Neg. LLF: 17624.76789595329\n",
      "Iteration:      5,   Func. Count:    169,   Neg. LLF: 19669.991086009246\n",
      "Iteration:      6,   Func. Count:    202,   Neg. LLF: 15047.983462340699\n",
      "Iteration:      7,   Func. Count:    235,   Neg. LLF: 15460.685075028658\n",
      "Iteration:      8,   Func. Count:    268,   Neg. LLF: 27033.959307122623\n",
      "Iteration:      9,   Func. Count:    301,   Neg. LLF: 16787.101314663614\n",
      "Iteration:     10,   Func. Count:    334,   Neg. LLF: 20163.706879567828\n",
      "Iteration:     11,   Func. Count:    368,   Neg. LLF: 15688.30378334319\n",
      "Iteration:     12,   Func. Count:    402,   Neg. LLF: 16191.6411775923\n",
      "Iteration:     13,   Func. Count:    436,   Neg. LLF: 14486.354629866859\n",
      "Iteration:     14,   Func. Count:    469,   Neg. LLF: 15357.96273032472\n",
      "Iteration:     15,   Func. Count:    503,   Neg. LLF: 14738.34976867046\n",
      "Iteration:     16,   Func. Count:    537,   Neg. LLF: 15485.09768746766\n",
      "Iteration:     17,   Func. Count:    570,   Neg. LLF: 14495.06199929828\n",
      "Iteration:     18,   Func. Count:    603,   Neg. LLF: 14235.864173638385\n",
      "Iteration:     19,   Func. Count:    636,   Neg. LLF: 14359.969755226179\n",
      "Iteration:     20,   Func. Count:    670,   Neg. LLF: 14207.955406460509\n",
      "Iteration:     21,   Func. Count:    703,   Neg. LLF: 14278.872294683302\n",
      "Iteration:     22,   Func. Count:    737,   Neg. LLF: 14167.706485321112\n",
      "Iteration:     23,   Func. Count:    770,   Neg. LLF: 14182.168511116786\n",
      "Iteration:     24,   Func. Count:    804,   Neg. LLF: 14218.14207039433\n",
      "Iteration:     25,   Func. Count:    838,   Neg. LLF: 14257.60207243793\n",
      "Iteration:     26,   Func. Count:    872,   Neg. LLF: 14115.530840431074\n",
      "Iteration:     27,   Func. Count:    905,   Neg. LLF: 14202.635906522793\n",
      "Iteration:     28,   Func. Count:    939,   Neg. LLF: 14101.888390982924\n",
      "Iteration:     29,   Func. Count:    971,   Neg. LLF: 14101.757642952063\n",
      "Iteration:     30,   Func. Count:  1e+03,   Neg. LLF: 14101.869013056035\n",
      "Iteration:     31,   Func. Count: 1.04e+03,   Neg. LLF: 14102.369470774473\n",
      "Iteration:     32,   Func. Count: 1.07e+03,   Neg. LLF: 14101.723716001987\n",
      "Iteration:     33,   Func. Count: 1.1e+03,   Neg. LLF: 14101.723289555586\n",
      "Iteration:     34,   Func. Count: 1.13e+03,   Neg. LLF: 14101.72327178498\n",
      "Iteration:     35,   Func. Count: 1.16e+03,   Neg. LLF: 14101.723269989301\n",
      "Iteration:     36,   Func. Count: 1.2e+03,   Neg. LLF: 14101.723270187349\n",
      "Optimization terminated successfully    (Exit mode 0)\n",
      "            Current function value: 14101.723269989301\n",
      "            Iterations: 36\n",
      "            Function evaluations: 1196\n",
      "            Gradient evaluations: 36\n"
     ]
    },
    {
     "name": "stderr",
     "output_type": "stream",
     "text": [
      "/usr/local/Caskroom/miniconda/base/envs/unienv/lib/python3.8/site-packages/arch/__future__/_utility.py:11: FutureWarning: \n",
      "The default for reindex is True. After September 2021 this will change to\n",
      "False. Set reindex to True or False to silence this message. Alternatively,\n",
      "you can use the import comment\n",
      "\n",
      "from arch.__future__ import reindexing\n",
      "\n",
      "to globally set reindex to True and silence this warning.\n",
      "\n",
      "  warnings.warn(\n"
     ]
    }
   ],
   "source": [
    "model_fit = model.fit()"
   ]
  },
  {
   "cell_type": "code",
   "execution_count": 93,
   "id": "19b0d1ee",
   "metadata": {},
   "outputs": [],
   "source": [
    "ret2 = daxdata.data**2"
   ]
  },
  {
   "cell_type": "code",
   "execution_count": 95,
   "id": "1eefc5bf",
   "metadata": {},
   "outputs": [
    {
     "data": {
      "text/plain": [
       "<AxesSubplot: xlabel='date_time'>"
      ]
     },
     "execution_count": 95,
     "metadata": {},
     "output_type": "execute_result"
    },
    {
     "data": {
      "image/png": "[encoded data removed]",
      "text/plain": [
       "<Figure size 640x480 with 1 Axes>"
      ]
     },
     "metadata": {},
     "output_type": "display_data"
    }
   ],
   "source": [
    "ret2.plot()"
   ]
  },
  {
   "cell_type": "code",
   "execution_count": 106,
   "id": "b665f89b",
   "metadata": {},
   "outputs": [
    {
     "data": {
      "image/png": "[encoded data removed]",
      "text/plain": [
       "<Figure size 640x480 with 2 Axes>"
      ]
     },
     "execution_count": 106,
     "metadata": {},
     "output_type": "execute_result"
    },
    {
     "data": {
      "image/png": "[encoded data removed]",
      "text/plain": [
       "<Figure size 640x480 with 2 Axes>"
      ]
     },
     "metadata": {},
     "output_type": "display_data"
    }
   ],
   "source": [
    "model_fit.plot()"
   ]
  },
  {
   "cell_type": "code",
   "execution_count": 105,
   "id": "95d56384",
   "metadata": {},
   "outputs": [
    {
     "name": "stderr",
     "output_type": "stream",
     "text": [
      "/usr/local/Caskroom/miniconda/base/envs/unienv/lib/python3.8/site-packages/arch/__future__/_utility.py:11: FutureWarning: \n",
      "The default for reindex is True. After September 2021 this will change to\n",
      "False. Set reindex to True or False to silence this message. Alternatively,\n",
      "you can use the import comment\n",
      "\n",
      "from arch.__future__ import reindexing\n",
      "\n",
      "to globally set reindex to True and silence this warning.\n",
      "\n",
      "  warnings.warn(\n"
     ]
    },
    {
     "data": {
      "text/html": [
       "<div>\n",
       "<style scoped>\n",
       "    .dataframe tbody tr th:only-of-type {\n",
       "        vertical-align: middle;\n",
       "    }\n",
       "\n",
       "    .dataframe tbody tr th {\n",
       "        vertical-align: top;\n",
       "    }\n",
       "\n",
       "    .dataframe thead th {\n",
       "        text-align: right;\n",
       "    }\n",
       "</style>\n",
       "<table border=\"1\" class=\"dataframe\">\n",
       "  <thead>\n",
       "    <tr style=\"text-align: right;\">\n",
       "      <th></th>\n",
       "      <th>h.1</th>\n",
       "      <th>h.2</th>\n",
       "      <th>h.3</th>\n",
       "      <th>h.4</th>\n",
       "      <th>h.5</th>\n",
       "    </tr>\n",
       "    <tr>\n",
       "      <th>date_time</th>\n",
       "      <th></th>\n",
       "      <th></th>\n",
       "      <th></th>\n",
       "      <th></th>\n",
       "      <th></th>\n",
       "    </tr>\n",
       "  </thead>\n",
       "  <tbody>\n",
       "    <tr>\n",
       "      <th>2022-10-27 00:00:00+02:00</th>\n",
       "      <td>NaN</td>\n",
       "      <td>NaN</td>\n",
       "      <td>NaN</td>\n",
       "      <td>NaN</td>\n",
       "      <td>NaN</td>\n",
       "    </tr>\n",
       "    <tr>\n",
       "      <th>2022-10-28 00:00:00+02:00</th>\n",
       "      <td>NaN</td>\n",
       "      <td>NaN</td>\n",
       "      <td>NaN</td>\n",
       "      <td>NaN</td>\n",
       "      <td>NaN</td>\n",
       "    </tr>\n",
       "    <tr>\n",
       "      <th>2022-10-31 00:00:00+01:00</th>\n",
       "      <td>NaN</td>\n",
       "      <td>NaN</td>\n",
       "      <td>NaN</td>\n",
       "      <td>NaN</td>\n",
       "      <td>NaN</td>\n",
       "    </tr>\n",
       "    <tr>\n",
       "      <th>2022-11-01 00:00:00+01:00</th>\n",
       "      <td>NaN</td>\n",
       "      <td>NaN</td>\n",
       "      <td>NaN</td>\n",
       "      <td>NaN</td>\n",
       "      <td>NaN</td>\n",
       "    </tr>\n",
       "    <tr>\n",
       "      <th>2022-11-02 00:00:00+01:00</th>\n",
       "      <td>1.000256</td>\n",
       "      <td>0.897863</td>\n",
       "      <td>0.970461</td>\n",
       "      <td>0.947827</td>\n",
       "      <td>0.974007</td>\n",
       "    </tr>\n",
       "  </tbody>\n",
       "</table>\n",
       "</div>"
      ],
      "text/plain": [
       "                                h.1       h.2       h.3       h.4       h.5\n",
       "date_time                                                                  \n",
       "2022-10-27 00:00:00+02:00       NaN       NaN       NaN       NaN       NaN\n",
       "2022-10-28 00:00:00+02:00       NaN       NaN       NaN       NaN       NaN\n",
       "2022-10-31 00:00:00+01:00       NaN       NaN       NaN       NaN       NaN\n",
       "2022-11-01 00:00:00+01:00       NaN       NaN       NaN       NaN       NaN\n",
       "2022-11-02 00:00:00+01:00  1.000256  0.897863  0.970461  0.947827  0.974007"
      ]
     },
     "execution_count": 105,
     "metadata": {},
     "output_type": "execute_result"
    }
   ],
   "source": [
    "yhat = model_fit.forecast(horizon=5)\n",
    "yhat.variance.tail()"
   ]
  },
  {
   "cell_type": "code",
   "execution_count": 115,
   "id": "b990ca57",
   "metadata": {},
   "outputs": [],
   "source": [
    "h1sample = np.random.normal(loc=0, scale=math.sqrt(yhat.variance[\"h.1\"].iloc[-1]), size=1000)\n",
    "h2sample = np.random.normal(loc=0, scale=math.sqrt(yhat.variance[\"h.2\"].iloc[-1]), size=1000)\n",
    "h3sample = np.random.normal(loc=0, scale=math.sqrt(yhat.variance[\"h.3\"].iloc[-1]), size=1000)\n",
    "h4sample = np.random.normal(loc=0, scale=math.sqrt(yhat.variance[\"h.4\"].iloc[-1]), size=1000)\n",
    "h5sample = np.random.normal(loc=0, scale=math.sqrt(yhat.variance[\"h.5\"].iloc[-1]), size=1000)"
   ]
  },
  {
   "cell_type": "code",
   "execution_count": 112,
   "id": "d4458f3e",
   "metadata": {},
   "outputs": [],
   "source": [
    "quantiles = [0.025, 0.25, 0.5, 0.75, 0.975]"
   ]
  },
  {
   "cell_type": "code",
   "execution_count": 142,
   "id": "595cde2d",
   "metadata": {},
   "outputs": [],
   "source": [
    "h1quantiles = np.quantile(h1sample, quantiles)\n",
    "h2quantiles = np.quantile(h2sample, quantiles)\n",
    "h3quantiles = np.quantile(h3sample, quantiles)\n",
    "h4quantiles = np.quantile(h4sample, quantiles)\n",
    "h5quantiles = np.quantile(h5sample, quantiles)\n",
    "daxquantiles = [h1quantiles, h2quantiles, h3quantiles, h4quantiles, h5quantiles]"
   ]
  },
  {
   "cell_type": "markdown",
   "id": "73da1d08",
   "metadata": {},
   "source": [
    "## Energy"
   ]
  },
  {
   "cell_type": "code",
   "execution_count": 171,
   "id": "8249dc98",
   "metadata": {},
   "outputs": [
    {
     "data": {
      "text/html": [
       "<div>\n",
       "<style scoped>\n",
       "    .dataframe tbody tr th:only-of-type {\n",
       "        vertical-align: middle;\n",
       "    }\n",
       "\n",
       "    .dataframe tbody tr th {\n",
       "        vertical-align: top;\n",
       "    }\n",
       "\n",
       "    .dataframe thead th {\n",
       "        text-align: right;\n",
       "    }\n",
       "</style>\n",
       "<table border=\"1\" class=\"dataframe\">\n",
       "  <thead>\n",
       "    <tr style=\"text-align: right;\">\n",
       "      <th></th>\n",
       "      <th>data</th>\n",
       "    </tr>\n",
       "    <tr>\n",
       "      <th>date_time</th>\n",
       "      <th></th>\n",
       "    </tr>\n",
       "  </thead>\n",
       "  <tbody>\n",
       "    <tr>\n",
       "      <th>2022-10-28 11:00:00</th>\n",
       "      <td>64.972</td>\n",
       "    </tr>\n",
       "    <tr>\n",
       "      <th>2022-10-28 12:00:00</th>\n",
       "      <td>65.036</td>\n",
       "    </tr>\n",
       "    <tr>\n",
       "      <th>2022-10-28 13:00:00</th>\n",
       "      <td>63.003</td>\n",
       "    </tr>\n",
       "    <tr>\n",
       "      <th>2022-10-28 14:00:00</th>\n",
       "      <td>61.364</td>\n",
       "    </tr>\n",
       "    <tr>\n",
       "      <th>2022-10-28 15:00:00</th>\n",
       "      <td>15.494</td>\n",
       "    </tr>\n",
       "  </tbody>\n",
       "</table>\n",
       "</div>"
      ],
      "text/plain": [
       "                       data\n",
       "date_time                  \n",
       "2022-10-28 11:00:00  64.972\n",
       "2022-10-28 12:00:00  65.036\n",
       "2022-10-28 13:00:00  63.003\n",
       "2022-10-28 14:00:00  61.364\n",
       "2022-10-28 15:00:00  15.494"
      ]
     },
     "execution_count": 171,
     "metadata": {},
     "output_type": "execute_result"
    }
   ],
   "source": [
    "energydata.tail()"
   ]
  },
  {
   "cell_type": "markdown",
   "id": "e1377781",
   "metadata": {},
   "source": [
    "# Submission Creation"
   ]
  },
  {
   "cell_type": "code",
   "execution_count": 167,
   "id": "36c1294f",
   "metadata": {},
   "outputs": [],
   "source": [
    "submission = create_submission_table()"
   ]
  },
  {
   "cell_type": "code",
   "execution_count": 168,
   "id": "f4cda0b2",
   "metadata": {},
   "outputs": [],
   "source": [
    "for i in range(5):\n",
    "    submission.loc[i, [\"q0.025\", \"q0.25\", \"q0.5\", \"q0.75\", \"q0.975\"]] = daxquantiles[i]"
   ]
  },
  {
   "cell_type": "code",
   "execution_count": 165,
   "id": "6ed19620",
   "metadata": {},
   "outputs": [],
   "source": [
    "for i in range(6):\n",
    "    submission.loc[5+i, [\"q0.025\", \"q0.25\", \"q0.5\", \"q0.75\", \"q0.975\"]] = energyquantiles[i]"
   ]
  },
  {
   "cell_type": "code",
   "execution_count": 169,
   "id": "7e285f34",
   "metadata": {},
   "outputs": [
    {
     "data": {
      "text/html": [
       "<div>\n",
       "<style scoped>\n",
       "    .dataframe tbody tr th:only-of-type {\n",
       "        vertical-align: middle;\n",
       "    }\n",
       "\n",
       "    .dataframe tbody tr th {\n",
       "        vertical-align: top;\n",
       "    }\n",
       "\n",
       "    .dataframe thead th {\n",
       "        text-align: right;\n",
       "    }\n",
       "</style>\n",
       "<table border=\"1\" class=\"dataframe\">\n",
       "  <thead>\n",
       "    <tr style=\"text-align: right;\">\n",
       "      <th></th>\n",
       "      <th>forecast_date</th>\n",
       "      <th>target</th>\n",
       "      <th>horizon</th>\n",
       "      <th>q0.025</th>\n",
       "      <th>q0.25</th>\n",
       "      <th>q0.5</th>\n",
       "      <th>q0.75</th>\n",
       "      <th>q0.975</th>\n",
       "    </tr>\n",
       "  </thead>\n",
       "  <tbody>\n",
       "    <tr>\n",
       "      <th>0</th>\n",
       "      <td>2022-11-02</td>\n",
       "      <td>DAX</td>\n",
       "      <td>1 day</td>\n",
       "      <td>-1.946219</td>\n",
       "      <td>-0.666303</td>\n",
       "      <td>0.047297</td>\n",
       "      <td>0.697642</td>\n",
       "      <td>2.024324</td>\n",
       "    </tr>\n",
       "    <tr>\n",
       "      <th>1</th>\n",
       "      <td>2022-11-02</td>\n",
       "      <td>DAX</td>\n",
       "      <td>2 day</td>\n",
       "      <td>-1.754379</td>\n",
       "      <td>-0.602774</td>\n",
       "      <td>0.083571</td>\n",
       "      <td>0.646914</td>\n",
       "      <td>1.791037</td>\n",
       "    </tr>\n",
       "    <tr>\n",
       "      <th>2</th>\n",
       "      <td>2022-11-02</td>\n",
       "      <td>DAX</td>\n",
       "      <td>5 day</td>\n",
       "      <td>-1.961899</td>\n",
       "      <td>-0.634639</td>\n",
       "      <td>-0.020732</td>\n",
       "      <td>0.590524</td>\n",
       "      <td>1.746128</td>\n",
       "    </tr>\n",
       "    <tr>\n",
       "      <th>3</th>\n",
       "      <td>2022-11-02</td>\n",
       "      <td>DAX</td>\n",
       "      <td>6 day</td>\n",
       "      <td>-1.718626</td>\n",
       "      <td>-0.674061</td>\n",
       "      <td>-0.021146</td>\n",
       "      <td>0.664456</td>\n",
       "      <td>1.853741</td>\n",
       "    </tr>\n",
       "    <tr>\n",
       "      <th>4</th>\n",
       "      <td>2022-11-02</td>\n",
       "      <td>DAX</td>\n",
       "      <td>7 day</td>\n",
       "      <td>-1.843037</td>\n",
       "      <td>-0.674998</td>\n",
       "      <td>-0.018268</td>\n",
       "      <td>0.684109</td>\n",
       "      <td>1.934115</td>\n",
       "    </tr>\n",
       "    <tr>\n",
       "      <th>5</th>\n",
       "      <td>2022-11-02</td>\n",
       "      <td>energy</td>\n",
       "      <td>36 hour</td>\n",
       "      <td>NaN</td>\n",
       "      <td>NaN</td>\n",
       "      <td>NaN</td>\n",
       "      <td>NaN</td>\n",
       "      <td>NaN</td>\n",
       "    </tr>\n",
       "    <tr>\n",
       "      <th>6</th>\n",
       "      <td>2022-11-02</td>\n",
       "      <td>energy</td>\n",
       "      <td>40 hour</td>\n",
       "      <td>NaN</td>\n",
       "      <td>NaN</td>\n",
       "      <td>NaN</td>\n",
       "      <td>NaN</td>\n",
       "      <td>NaN</td>\n",
       "    </tr>\n",
       "    <tr>\n",
       "      <th>7</th>\n",
       "      <td>2022-11-02</td>\n",
       "      <td>energy</td>\n",
       "      <td>44 hour</td>\n",
       "      <td>NaN</td>\n",
       "      <td>NaN</td>\n",
       "      <td>NaN</td>\n",
       "      <td>NaN</td>\n",
       "      <td>NaN</td>\n",
       "    </tr>\n",
       "    <tr>\n",
       "      <th>8</th>\n",
       "      <td>2022-11-02</td>\n",
       "      <td>energy</td>\n",
       "      <td>60 hour</td>\n",
       "      <td>NaN</td>\n",
       "      <td>NaN</td>\n",
       "      <td>NaN</td>\n",
       "      <td>NaN</td>\n",
       "      <td>NaN</td>\n",
       "    </tr>\n",
       "    <tr>\n",
       "      <th>9</th>\n",
       "      <td>2022-11-02</td>\n",
       "      <td>energy</td>\n",
       "      <td>64 hour</td>\n",
       "      <td>NaN</td>\n",
       "      <td>NaN</td>\n",
       "      <td>NaN</td>\n",
       "      <td>NaN</td>\n",
       "      <td>NaN</td>\n",
       "    </tr>\n",
       "    <tr>\n",
       "      <th>10</th>\n",
       "      <td>2022-11-02</td>\n",
       "      <td>energy</td>\n",
       "      <td>68 hour</td>\n",
       "      <td>NaN</td>\n",
       "      <td>NaN</td>\n",
       "      <td>NaN</td>\n",
       "      <td>NaN</td>\n",
       "      <td>NaN</td>\n",
       "    </tr>\n",
       "    <tr>\n",
       "      <th>11</th>\n",
       "      <td>2022-11-02</td>\n",
       "      <td>wind</td>\n",
       "      <td>36 hour</td>\n",
       "      <td>NaN</td>\n",
       "      <td>NaN</td>\n",
       "      <td>NaN</td>\n",
       "      <td>NaN</td>\n",
       "      <td>NaN</td>\n",
       "    </tr>\n",
       "    <tr>\n",
       "      <th>12</th>\n",
       "      <td>2022-11-02</td>\n",
       "      <td>wind</td>\n",
       "      <td>48 hour</td>\n",
       "      <td>NaN</td>\n",
       "      <td>NaN</td>\n",
       "      <td>NaN</td>\n",
       "      <td>NaN</td>\n",
       "      <td>NaN</td>\n",
       "    </tr>\n",
       "    <tr>\n",
       "      <th>13</th>\n",
       "      <td>2022-11-02</td>\n",
       "      <td>wind</td>\n",
       "      <td>60 hour</td>\n",
       "      <td>NaN</td>\n",
       "      <td>NaN</td>\n",
       "      <td>NaN</td>\n",
       "      <td>NaN</td>\n",
       "      <td>NaN</td>\n",
       "    </tr>\n",
       "    <tr>\n",
       "      <th>14</th>\n",
       "      <td>2022-11-02</td>\n",
       "      <td>wind</td>\n",
       "      <td>72 hour</td>\n",
       "      <td>NaN</td>\n",
       "      <td>NaN</td>\n",
       "      <td>NaN</td>\n",
       "      <td>NaN</td>\n",
       "      <td>NaN</td>\n",
       "    </tr>\n",
       "    <tr>\n",
       "      <th>15</th>\n",
       "      <td>2022-11-02</td>\n",
       "      <td>wind</td>\n",
       "      <td>84 hour</td>\n",
       "      <td>NaN</td>\n",
       "      <td>NaN</td>\n",
       "      <td>NaN</td>\n",
       "      <td>NaN</td>\n",
       "      <td>NaN</td>\n",
       "    </tr>\n",
       "  </tbody>\n",
       "</table>\n",
       "</div>"
      ],
      "text/plain": [
       "   forecast_date  target  horizon    q0.025     q0.25      q0.5     q0.75  \\\n",
       "0     2022-11-02     DAX    1 day -1.946219 -0.666303  0.047297  0.697642   \n",
       "1     2022-11-02     DAX    2 day -1.754379 -0.602774  0.083571  0.646914   \n",
       "2     2022-11-02     DAX    5 day -1.961899 -0.634639 -0.020732  0.590524   \n",
       "3     2022-11-02     DAX    6 day -1.718626 -0.674061 -0.021146  0.664456   \n",
       "4     2022-11-02     DAX    7 day -1.843037 -0.674998 -0.018268  0.684109   \n",
       "5     2022-11-02  energy  36 hour       NaN       NaN       NaN       NaN   \n",
       "6     2022-11-02  energy  40 hour       NaN       NaN       NaN       NaN   \n",
       "7     2022-11-02  energy  44 hour       NaN       NaN       NaN       NaN   \n",
       "8     2022-11-02  energy  60 hour       NaN       NaN       NaN       NaN   \n",
       "9     2022-11-02  energy  64 hour       NaN       NaN       NaN       NaN   \n",
       "10    2022-11-02  energy  68 hour       NaN       NaN       NaN       NaN   \n",
       "11    2022-11-02    wind  36 hour       NaN       NaN       NaN       NaN   \n",
       "12    2022-11-02    wind  48 hour       NaN       NaN       NaN       NaN   \n",
       "13    2022-11-02    wind  60 hour       NaN       NaN       NaN       NaN   \n",
       "14    2022-11-02    wind  72 hour       NaN       NaN       NaN       NaN   \n",
       "15    2022-11-02    wind  84 hour       NaN       NaN       NaN       NaN   \n",
       "\n",
       "      q0.975  \n",
       "0   2.024324  \n",
       "1   1.791037  \n",
       "2   1.746128  \n",
       "3   1.853741  \n",
       "4   1.934115  \n",
       "5        NaN  \n",
       "6        NaN  \n",
       "7        NaN  \n",
       "8        NaN  \n",
       "9        NaN  \n",
       "10       NaN  \n",
       "11       NaN  \n",
       "12       NaN  \n",
       "13       NaN  \n",
       "14       NaN  \n",
       "15       NaN  "
      ]
     },
     "execution_count": 169,
     "metadata": {},
     "output_type": "execute_result"
    }
   ],
   "source": [
    "submission"
   ]
  },
  {
   "cell_type": "code",
   "execution_count": 159,
   "id": "acda488a",
   "metadata": {},
   "outputs": [
    {
     "name": "stdout",
     "output_type": "stream",
     "text": [
      "Submission file created\n"
     ]
    }
   ],
   "source": [
    "create_submission_file(submission)"
   ]
  },
  {
   "cell_type": "markdown",
   "id": "ceb87942",
   "metadata": {},
   "source": [
    "# Check"
   ]
  },
  {
   "cell_type": "code",
   "execution_count": 137,
   "id": "d91f8850",
   "metadata": {},
   "outputs": [
    {
     "name": "stdout",
     "output_type": "stream",
     "text": [
      "{'path': '20221026_GreyWorm.csv', 'exclude_weather': None}\n",
      "Loading file... 20221026_GreyWorm.csv\n",
      "File loaded! Start Checking...\n",
      "---------------------------\n",
      "Checking the Columns...\n",
      "Checking type of columns...\n",
      "----WARNING: Some elements in q0.025 column are not numeric. This may be fine if you only submit 2 out of 3 targets.\n",
      "\n",
      "----WARNING: Some elements in q0.25 column are not numeric. This may be fine if you only submit 2 out of 3 targets.\n",
      "\n",
      "----WARNING: Some elements in q0.5 column are not numeric. This may be fine if you only submit 2 out of 3 targets.\n",
      "\n",
      "----WARNING: Some elements in q0.75 column are not numeric. This may be fine if you only submit 2 out of 3 targets.\n",
      "\n",
      "----WARNING: Some elements in q0.975 column are not numeric. This may be fine if you only submit 2 out of 3 targets.\n",
      "\n",
      "Checking if the Dates make sense...\n",
      "Checking targets...\n",
      "Checking quantiles...\n",
      "Assume that -- energy -- is your NaN-target. Please DOUBLECHECK if this is correct.\n",
      "Your dataframe contains more NaNs than entries for target energy .\n",
      "Stopping early...\n"
     ]
    }
   ],
   "source": [
    "! python check.py -p 20221026_GreyWorm.csv"
   ]
  },
  {
   "cell_type": "code",
   "execution_count": null,
   "id": "a03b3b5c",
   "metadata": {},
   "outputs": [],
   "source": []
  }
 ],
 "metadata": {
  "kernelspec": {
   "display_name": "Python 3.8.0 ('unienv')",
   "language": "python",
   "name": "python3"
  },
  "language_info": {
   "codemirror_mode": {
    "name": "ipython",
    "version": 3
   },
   "file_extension": ".py",
   "mimetype": "text/x-python",
   "name": "python",
   "nbconvert_exporter": "python",
   "pygments_lexer": "ipython3",
   "version": "3.8.0"
  },
  "vscode": {
   "interpreter": {
    "hash": "f38b949447149ea0cfab77d7ef91d4ded9cd69cfa8714290ff63f8d71753623c"
   }
  }
 },
 "nbformat": 4,
 "nbformat_minor": 5
}
