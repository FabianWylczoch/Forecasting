{
 "cells": [
  {
   "cell_type": "markdown",
   "id": "2091a860",
   "metadata": {},
   "source": [
    "## Notebook to forecast quantiles for the power demand of Germany"
   ]
  },
  {
   "cell_type": "code",
   "execution_count": null,
   "id": "ac742fa5",
   "metadata": {},
   "outputs": [],
   "source": []
  }
 ],
 "metadata": {
  "kernelspec": {
   "display_name": "Python 3 (ipykernel)",
   "language": "python",
   "name": "python3"
  },
  "language_info": {
   "codemirror_mode": {
    "name": "ipython",
    "version": 3
   },
   "file_extension": ".py",
   "mimetype": "text/x-python",
   "name": "python",
   "nbconvert_exporter": "python",
   "pygments_lexer": "ipython3",
   "version": "3.8.0"
  }
 },
 "nbformat": 4,
 "nbformat_minor": 5
}
